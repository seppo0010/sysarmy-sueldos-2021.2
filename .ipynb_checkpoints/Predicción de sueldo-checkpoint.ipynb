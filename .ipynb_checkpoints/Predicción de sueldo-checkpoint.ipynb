{
 "cells": [
  {
   "cell_type": "code",
   "execution_count": 1,
   "metadata": {},
   "outputs": [],
   "source": [
    "import math\n",
    "import numpy as np\n",
    "import pandas as pd\n",
    "import geopandas as gpd\n",
    "import matplotlib.pyplot as plt\n",
    "from sklearn.model_selection import cross_val_score\n",
    "from sklearn.metrics import r2_score\n",
    "from sklearn.linear_model import LinearRegression\n",
    "from sklearn.model_selection import train_test_split\n",
    "from gensim.models.doc2vec import Doc2Vec, TaggedDocument\n",
    "from sklearn.manifold import TSNE\n",
    "import xgboost as xgb\n",
    "from hyperopt import fmin, tpe, space_eval, hp, STATUS_OK, Trials\n",
    "from numpy.random import default_rng\n",
    "import matplotlib.lines as mlines\n",
    "\n",
    "%matplotlib inline"
   ]
  },
  {
   "cell_type": "code",
   "execution_count": 2,
   "metadata": {},
   "outputs": [
    {
     "data": {
      "text/html": [
       "<div>\n",
       "<style scoped>\n",
       "    .dataframe tbody tr th:only-of-type {\n",
       "        vertical-align: middle;\n",
       "    }\n",
       "\n",
       "    .dataframe tbody tr th {\n",
       "        vertical-align: top;\n",
       "    }\n",
       "\n",
       "    .dataframe thead th {\n",
       "        text-align: right;\n",
       "    }\n",
       "</style>\n",
       "<table border=\"1\" class=\"dataframe\">\n",
       "  <thead>\n",
       "    <tr style=\"text-align: right;\">\n",
       "      <th></th>\n",
       "      <th>Dónde estás trabajando</th>\n",
       "      <th>Tipo de contrato</th>\n",
       "      <th>Salario mensual o retiro BRUTO (en tu moneda local)</th>\n",
       "      <th>Salario mensual o retiro NETO (en tu moneda local)</th>\n",
       "      <th>Pagos en dólares</th>\n",
       "      <th>¿Cuál fue el último valor de dólar que tomaron?</th>\n",
       "      <th>¿Qué tan conforme estás con tu sueldo?</th>\n",
       "      <th>Cómo creés que está tu sueldo con respecto al último semestre</th>\n",
       "      <th>Recibís algún tipo de bono</th>\n",
       "      <th>A qué está atado el bono</th>\n",
       "      <th>...</th>\n",
       "      <th>¿Con quiénes convivís?</th>\n",
       "      <th>¿Tenés un espacio dedicado para el trabajo?</th>\n",
       "      <th>¿Tenés que compartir tu equipo de trabajo con alguien?</th>\n",
       "      <th>¿Qué tipo de cuarentena hiciste / estás haciendo?</th>\n",
       "      <th>¿Cambió tu situación laboral a raíz de la pandemia?</th>\n",
       "      <th>¿Qué tanto sentís que te está apoyando tu empresa/organización en esta situación?</th>\n",
       "      <th>¿Cómo se vio afectada tu empresa/organización?</th>\n",
       "      <th>¿Instauraron algún beneficio nuevo?</th>\n",
       "      <th>Tengo</th>\n",
       "      <th>Me identifico</th>\n",
       "    </tr>\n",
       "  </thead>\n",
       "  <tbody>\n",
       "    <tr>\n",
       "      <th>0</th>\n",
       "      <td>Catamarca</td>\n",
       "      <td>Full-Time</td>\n",
       "      <td>245000</td>\n",
       "      <td>169000.0</td>\n",
       "      <td>NaN</td>\n",
       "      <td>NaN</td>\n",
       "      <td>2</td>\n",
       "      <td>3</td>\n",
       "      <td>De uno a tres sueldos</td>\n",
       "      <td>Mix de las anteriores</td>\n",
       "      <td>...</td>\n",
       "      <td>NaN</td>\n",
       "      <td>NaN</td>\n",
       "      <td>NaN</td>\n",
       "      <td>NaN</td>\n",
       "      <td>NaN</td>\n",
       "      <td>NaN</td>\n",
       "      <td>NaN</td>\n",
       "      <td>NaN</td>\n",
       "      <td>28</td>\n",
       "      <td>Varón Cis</td>\n",
       "    </tr>\n",
       "    <tr>\n",
       "      <th>1</th>\n",
       "      <td>Catamarca</td>\n",
       "      <td>Tercerizado (trabajo a través de consultora o ...</td>\n",
       "      <td>180000</td>\n",
       "      <td>126000.0</td>\n",
       "      <td>NaN</td>\n",
       "      <td>NaN</td>\n",
       "      <td>3</td>\n",
       "      <td>2</td>\n",
       "      <td>No</td>\n",
       "      <td>No recibo bono</td>\n",
       "      <td>...</td>\n",
       "      <td>NaN</td>\n",
       "      <td>NaN</td>\n",
       "      <td>NaN</td>\n",
       "      <td>NaN</td>\n",
       "      <td>NaN</td>\n",
       "      <td>NaN</td>\n",
       "      <td>NaN</td>\n",
       "      <td>NaN</td>\n",
       "      <td>34</td>\n",
       "      <td>Varón Cis</td>\n",
       "    </tr>\n",
       "    <tr>\n",
       "      <th>2</th>\n",
       "      <td>Catamarca</td>\n",
       "      <td>Full-Time</td>\n",
       "      <td>71202</td>\n",
       "      <td>61753.0</td>\n",
       "      <td>NaN</td>\n",
       "      <td>nose</td>\n",
       "      <td>1</td>\n",
       "      <td>1</td>\n",
       "      <td>No</td>\n",
       "      <td>No recibo bono</td>\n",
       "      <td>...</td>\n",
       "      <td>NaN</td>\n",
       "      <td>NaN</td>\n",
       "      <td>NaN</td>\n",
       "      <td>NaN</td>\n",
       "      <td>NaN</td>\n",
       "      <td>NaN</td>\n",
       "      <td>NaN</td>\n",
       "      <td>NaN</td>\n",
       "      <td>45</td>\n",
       "      <td>Varón Cis</td>\n",
       "    </tr>\n",
       "    <tr>\n",
       "      <th>3</th>\n",
       "      <td>Chaco</td>\n",
       "      <td>Part-Time</td>\n",
       "      <td>96000</td>\n",
       "      <td>96000.0</td>\n",
       "      <td>NaN</td>\n",
       "      <td>NaN</td>\n",
       "      <td>2</td>\n",
       "      <td>2</td>\n",
       "      <td>No</td>\n",
       "      <td>No recibo bono</td>\n",
       "      <td>...</td>\n",
       "      <td>Pareja</td>\n",
       "      <td>Sí</td>\n",
       "      <td>No</td>\n",
       "      <td>2.0</td>\n",
       "      <td>Cambié de trabajo, pero no por la pandemia</td>\n",
       "      <td>9.0</td>\n",
       "      <td>No la afectó</td>\n",
       "      <td>Ninguna de las anteriores</td>\n",
       "      <td>31</td>\n",
       "      <td>Mujer Cis</td>\n",
       "    </tr>\n",
       "    <tr>\n",
       "      <th>4</th>\n",
       "      <td>Chaco</td>\n",
       "      <td>Full-Time</td>\n",
       "      <td>42000</td>\n",
       "      <td>32000.0</td>\n",
       "      <td>NaN</td>\n",
       "      <td>NaN</td>\n",
       "      <td>1</td>\n",
       "      <td>2</td>\n",
       "      <td>No</td>\n",
       "      <td>Performance individual</td>\n",
       "      <td>...</td>\n",
       "      <td>NaN</td>\n",
       "      <td>NaN</td>\n",
       "      <td>NaN</td>\n",
       "      <td>NaN</td>\n",
       "      <td>NaN</td>\n",
       "      <td>NaN</td>\n",
       "      <td>NaN</td>\n",
       "      <td>NaN</td>\n",
       "      <td>30</td>\n",
       "      <td>Varón Cis</td>\n",
       "    </tr>\n",
       "  </tbody>\n",
       "</table>\n",
       "<p>5 rows × 60 columns</p>\n",
       "</div>"
      ],
      "text/plain": [
       "  Dónde estás trabajando                                   Tipo de contrato  \\\n",
       "0              Catamarca                                          Full-Time   \n",
       "1              Catamarca  Tercerizado (trabajo a través de consultora o ...   \n",
       "2              Catamarca                                          Full-Time   \n",
       "3                  Chaco                                          Part-Time   \n",
       "4                  Chaco                                          Full-Time   \n",
       "\n",
       "  Salario mensual o retiro BRUTO (en tu moneda local)  \\\n",
       "0                                             245000    \n",
       "1                                             180000    \n",
       "2                                              71202    \n",
       "3                                              96000    \n",
       "4                                              42000    \n",
       "\n",
       "   Salario mensual o retiro NETO (en tu moneda local) Pagos en dólares  \\\n",
       "0                                           169000.0               NaN   \n",
       "1                                           126000.0               NaN   \n",
       "2                                            61753.0               NaN   \n",
       "3                                            96000.0               NaN   \n",
       "4                                            32000.0               NaN   \n",
       "\n",
       "  ¿Cuál fue el último valor de dólar que tomaron?  \\\n",
       "0                                             NaN   \n",
       "1                                             NaN   \n",
       "2                                           nose    \n",
       "3                                             NaN   \n",
       "4                                             NaN   \n",
       "\n",
       "   ¿Qué tan conforme estás con tu sueldo?  \\\n",
       "0                                       2   \n",
       "1                                       3   \n",
       "2                                       1   \n",
       "3                                       2   \n",
       "4                                       1   \n",
       "\n",
       "   Cómo creés que está tu sueldo con respecto al último semestre  \\\n",
       "0                                                  3               \n",
       "1                                                  2               \n",
       "2                                                  1               \n",
       "3                                                  2               \n",
       "4                                                  2               \n",
       "\n",
       "  Recibís algún tipo de bono A qué está atado el bono  ...  \\\n",
       "0      De uno a tres sueldos    Mix de las anteriores  ...   \n",
       "1                         No           No recibo bono  ...   \n",
       "2                         No           No recibo bono  ...   \n",
       "3                         No           No recibo bono  ...   \n",
       "4                         No   Performance individual  ...   \n",
       "\n",
       "  ¿Con quiénes convivís?  ¿Tenés un espacio dedicado para el trabajo?  \\\n",
       "0                    NaN                                          NaN   \n",
       "1                    NaN                                          NaN   \n",
       "2                    NaN                                          NaN   \n",
       "3                 Pareja                                           Sí   \n",
       "4                    NaN                                          NaN   \n",
       "\n",
       "   ¿Tenés que compartir tu equipo de trabajo con alguien?  \\\n",
       "0                                                NaN        \n",
       "1                                                NaN        \n",
       "2                                                NaN        \n",
       "3                                                 No        \n",
       "4                                                NaN        \n",
       "\n",
       "  ¿Qué tipo de cuarentena hiciste / estás haciendo?  \\\n",
       "0                                               NaN   \n",
       "1                                               NaN   \n",
       "2                                               NaN   \n",
       "3                                               2.0   \n",
       "4                                               NaN   \n",
       "\n",
       "   ¿Cambió tu situación laboral a raíz de la pandemia?  \\\n",
       "0                                                NaN     \n",
       "1                                                NaN     \n",
       "2                                                NaN     \n",
       "3         Cambié de trabajo, pero no por la pandemia     \n",
       "4                                                NaN     \n",
       "\n",
       "   ¿Qué tanto sentís que te está apoyando tu empresa/organización en esta situación?  \\\n",
       "0                                                NaN                                   \n",
       "1                                                NaN                                   \n",
       "2                                                NaN                                   \n",
       "3                                                9.0                                   \n",
       "4                                                NaN                                   \n",
       "\n",
       "   ¿Cómo se vio afectada tu empresa/organización?  \\\n",
       "0                                             NaN   \n",
       "1                                             NaN   \n",
       "2                                             NaN   \n",
       "3                                    No la afectó   \n",
       "4                                             NaN   \n",
       "\n",
       "   ¿Instauraron algún beneficio nuevo? Tengo Me identifico  \n",
       "0                                  NaN    28     Varón Cis  \n",
       "1                                  NaN    34     Varón Cis  \n",
       "2                                  NaN    45     Varón Cis  \n",
       "3            Ninguna de las anteriores    31     Mujer Cis  \n",
       "4                                  NaN    30     Varón Cis  \n",
       "\n",
       "[5 rows x 60 columns]"
      ]
     },
     "execution_count": 2,
     "metadata": {},
     "output_type": "execute_result"
    }
   ],
   "source": [
    "df = pd.read_csv('sysarmy2021-2.csv', skiprows=9)\n",
    "df.head()"
   ]
  },
  {
   "cell_type": "code",
   "execution_count": 3,
   "metadata": {
    "run_control": {
     "frozen": true
    }
   },
   "outputs": [
    {
     "data": {
      "text/plain": [
       "Index(['Dónde estás trabajando', 'Tipo de contrato',\n",
       "       'Salario mensual o retiro BRUTO (en tu moneda local)',\n",
       "       'Salario mensual o retiro NETO (en tu moneda local)',\n",
       "       'Pagos en dólares', '¿Cuál fue el último valor de dólar que tomaron?',\n",
       "       '¿Qué tan conforme estás con tu sueldo?',\n",
       "       'Cómo creés que está tu sueldo con respecto al último semestre',\n",
       "       'Recibís algún tipo de bono', 'A qué está atado el bono',\n",
       "       '¿Tuviste ajustes por inflación durante 2021?',\n",
       "       '¿De qué % fue el ajuste total?', '¿En qué mes fue el último ajuste?',\n",
       "       'Trabajo de', 'Años de experiencia', 'Años en la empresa actual',\n",
       "       'Años en el puesto actual', '¿Gente a cargo?', 'Plataformas',\n",
       "       'Lenguajes de programación o tecnologías.',\n",
       "       'Frameworks, herramientas y librerías', 'Bases de datos',\n",
       "       'QA / Testing', 'IDEs', 'Cantidad de personas en tu organización',\n",
       "       'Trabajo para una empresa que no tiene oficina en mi ciudad',\n",
       "       'Actividad principal',\n",
       "       '¿La recomendás como un buen lugar para trabajar?',\n",
       "       '¿Cómo calificás las políticas de diversidad e inclusión?',\n",
       "       'Beneficios extra', '¿Salir o seguir contestando?',\n",
       "       'Nivel de estudios alcanzado', 'Estado', 'Carrera', 'Universidad',\n",
       "       'Realizaste cursos de especialización',\n",
       "       '¿Contribuís a proyectos open source?', '¿Programás como hobbie?',\n",
       "       '¿Salir o seguir contestando?.1', '¿Tenés guardias?',\n",
       "       'Cuánto cobrás por guardia', '¿Porcentaje, bruto o neto?',\n",
       "       '¿Salir o seguir contestando?.2',\n",
       "       '¿Sufriste o presenciaste situaciones de violencia laboral?',\n",
       "       '¿Tenés algún tipo de discapacidad?',\n",
       "       '¿Sentís que esto te dificultó el conseguir trabajo?',\n",
       "       '¿Salir o seguir contestando?.3', '¿Cómo venís llevando la pandemia?',\n",
       "       '¿Tenés hijos/as menores de edad?',\n",
       "       '¿Con cuántas personas estás conviviendo?', '¿Con quiénes convivís?',\n",
       "       '¿Tenés un espacio dedicado para el trabajo?',\n",
       "       '¿Tenés que compartir tu equipo de trabajo con alguien?',\n",
       "       '¿Qué tipo de cuarentena hiciste / estás haciendo?',\n",
       "       '¿Cambió tu situación laboral a raíz de la pandemia?',\n",
       "       '¿Qué tanto sentís que te está apoyando tu empresa/organización en esta situación?',\n",
       "       '¿Cómo se vio afectada tu empresa/organización?',\n",
       "       '¿Instauraron algún beneficio nuevo?', 'Tengo', 'Me identifico'],\n",
       "      dtype='object')"
      ]
     },
     "execution_count": 3,
     "metadata": {},
     "output_type": "execute_result"
    }
   ],
   "source": [
    "df.columns"
   ]
  },
  {
   "cell_type": "code",
   "execution_count": 4,
   "metadata": {},
   "outputs": [],
   "source": [
    "salary_colname = 'Salario mensual o retiro BRUTO (en tu moneda local)'"
   ]
  },
  {
   "cell_type": "code",
   "execution_count": 5,
   "metadata": {},
   "outputs": [],
   "source": [
    "df = df[pd.to_numeric(df[salary_colname], errors='coerce').notnull()]"
   ]
  },
  {
   "cell_type": "code",
   "execution_count": 6,
   "metadata": {
    "run_control": {
     "frozen": true
    },
    "scrolled": false
   },
   "outputs": [
    {
     "data": {
      "text/plain": [
       "''"
      ]
     },
     "execution_count": 6,
     "metadata": {},
     "output_type": "execute_result"
    },
    {
     "data": {
      "image/png": "[encoded data removed]",
      "text/plain": [
       "<Figure size 864x864 with 4 Axes>"
      ]
     },
     "metadata": {
      "needs_background": "light"
     },
     "output_type": "display_data"
    }
   ],
   "source": [
    "df_orig = pd.read_csv('sysarmy2021-2.csv', skiprows=9)\n",
    "df_orig[salary_colname] = pd.to_numeric(df_orig[salary_colname], errors='coerce')\n",
    "df_orig = df_orig[pd.to_numeric(df_orig[salary_colname], errors='coerce').notnull()]\n",
    "\n",
    "f, _= plt.subplots(2, 2, figsize=(12, 12))\n",
    "ax = plt.subplot(2, 2, 1)\n",
    "ax.hist(df_orig[salary_colname])\n",
    "ax.set_title('(a) Sin excluir anomalías')\n",
    "ax.set_xlabel('Salario bruto (ARS)')\n",
    "ax.set_ylabel('Cantidad de respuestas')\n",
    "ax.set_xticks([0, 7_000_000_000_000])\n",
    "ax.set_xticklabels([\"0\", \"7e12\"])\n",
    "\n",
    "ax = plt.subplot(2, 2, 2)\n",
    "ax.hist(df_orig[df_orig[salary_colname] < 1_000_000][salary_colname])\n",
    "ax.set_title('(b) Hasta $1.000.000')\n",
    "ax.set_xlabel('Salario bruto (ARS)')\n",
    "ax.set_ylabel('Cantidad de respuestas')\n",
    "\n",
    "ax = plt.subplot(2, 2, 3)\n",
    "ax.hist(df_orig[df_orig[salary_colname] < 10_000][salary_colname])\n",
    "ax.set_title('(c) Hasta $10.000')\n",
    "ax.set_xlabel('Salario bruto (ARS)')\n",
    "ax.set_ylabel('Cantidad de respuestas')\n",
    "\n",
    "ax = plt.subplot(2, 2, 4)\n",
    "ax.hist(df_orig[(df_orig[salary_colname] > 10_000) & (df_orig[salary_colname] < 1_000_000)][salary_colname])\n",
    "ax.set_title('(d) Entre \\\\$10.000 y \\\\$1.000.000')\n",
    "ax.set_xlabel('Salario bruto (ARS)')\n",
    "ax.set_ylabel('Cantidad de respuestas')\n",
    ";"
   ]
  },
  {
   "cell_type": "code",
   "execution_count": 7,
   "metadata": {
    "run_control": {
     "frozen": true
    }
   },
   "outputs": [
    {
     "data": {
      "image/png": "[encoded data removed]",
      "text/plain": [
       "<Figure size 720x288 with 2 Axes>"
      ]
     },
     "metadata": {
      "needs_background": "light"
     },
     "output_type": "display_data"
    }
   ],
   "source": [
    "f, _= plt.subplots(1, 2, figsize=(10, 4))\n",
    "ax = plt.subplot(1, 2, 1)\n",
    "ax.hist(df_orig['Años en la empresa actual'])\n",
    "ax.set_title('(e) Sin excluir anomalías')\n",
    "ax.set_xlabel('Años en la empresa actual')\n",
    "ax.set_ylabel('Cantidad de respuestas')\n",
    "\n",
    "ax = plt.subplot(1, 2, 2)\n",
    "ax.hist(df_orig[df_orig['Años en la empresa actual'] < 40]['Años en la empresa actual'])\n",
    "ax.set_title('(f) Hasta 40')\n",
    "ax.set_xlabel('Años en la empresa actual')\n",
    "ax.set_ylabel('Cantidad de respuestas')\n",
    "\n",
    "None"
   ]
  },
  {
   "cell_type": "code",
   "execution_count": 8,
   "metadata": {
    "run_control": {
     "frozen": true
    }
   },
   "outputs": [
    {
     "data": {
      "image/png": "[encoded data removed]",
      "text/plain": [
       "<Figure size 432x288 with 1 Axes>"
      ]
     },
     "metadata": {
      "needs_background": "light"
     },
     "output_type": "display_data"
    }
   ],
   "source": [
    "plt.title('(h) Logaritmo')\n",
    "\n",
    "plt.ylabel('log10(x+1)')\n",
    "plt.xlabel('x')\n",
    "plt.xlim(0, 10)\n",
    "plt.ylim(0, 1)\n",
    "plt.plot(pd.Series(range(0, 10, 1)), np.log10(pd.Series(range(1, 11, 1))))\n",
    "plt.axvline(1, 0, np.log10(2), dashes=(5, 5), color='red')\n",
    "plt.axhline(np.log10(2), 0, 0.1, dashes=(5, 5), color='red')\n",
    "\n",
    "plt.axvline(6, 0, np.log10(7), dashes=(5, 5), color='red')\n",
    "plt.axhline(np.log10(7), 0, 0.6, dashes=(5, 5), color='red')\n",
    "plt.axvline(7, 0, np.log10(8), dashes=(5, 5), color='red')\n",
    "plt.axhline(np.log10(8), 0, 0.7, dashes=(5, 5), color='red')\n",
    "\n",
    "None;"
   ]
  },
  {
   "cell_type": "code",
   "execution_count": 9,
   "metadata": {
    "run_control": {
     "frozen": true
    }
   },
   "outputs": [
    {
     "data": {
      "text/plain": [
       "''"
      ]
     },
     "execution_count": 9,
     "metadata": {},
     "output_type": "execute_result"
    },
    {
     "data": {
      "image/png": "[encoded data removed]",
      "text/plain": [
       "<Figure size 432x288 with 1 Axes>"
      ]
     },
     "metadata": {
      "needs_background": "light"
     },
     "output_type": "display_data"
    }
   ],
   "source": [
    "_, ax = plt.subplots(1, 1)\n",
    "rng = default_rng(42)\n",
    "xvals = rng.uniform(0, 80, 100)\n",
    "f_x = 3*xvals/20+5\n",
    "data = f_x + rng.normal(0, 1.5, 100)\n",
    "ax.scatter(xvals, data)\n",
    "model = LinearRegression().fit(xvals.reshape((-1, 1)), data)\n",
    "ax.add_line(mlines.Line2D([xvals.min(),xvals.max()], [xvals.min() * model.coef_ + model.intercept_, xvals.max() * model.coef_ + model.intercept_], color='red'))\n",
    "ax.set_xlim(0, 80)\n",
    "ax.set_ylim(0, 20)\n",
    "ax.set_title('(g) ejemplo de regresión lineal')\n",
    ";"
   ]
  },
  {
   "cell_type": "code",
   "execution_count": 10,
   "metadata": {
    "run_control": {
     "frozen": true
    }
   },
   "outputs": [
    {
     "data": {
      "text/plain": [
       "''"
      ]
     },
     "execution_count": 10,
     "metadata": {},
     "output_type": "execute_result"
    },
    {
     "data": {
      "image/png": "[encoded data removed]",
      "text/plain": [
       "<Figure size 432x288 with 1 Axes>"
      ]
     },
     "metadata": {
      "needs_background": "light"
     },
     "output_type": "display_data"
    }
   ],
   "source": [
    "_, ax = plt.subplots(1, 1)\n",
    "rng = default_rng(42)\n",
    "xvals = rng.uniform(0, 80, 100)\n",
    "f_x = 3*xvals/20+5\n",
    "data = f_x + rng.normal(0, 1.5, 100)\n",
    "ax.scatter(xvals, data)\n",
    "model = LinearRegression().fit(xvals.reshape((-1, 1)), data)\n",
    "ax.add_line(mlines.Line2D([xvals.min(),xvals.max()], [xvals.min() * model.coef_ + model.intercept_, xvals.max() * model.coef_ + model.intercept_], color='red'))\n",
    "ax.set_xlim(0, 80)\n",
    "ax.set_ylim(0, 20)\n",
    "ax.set_title('(g) ejemplo de regresión lineal')\n",
    ";"
   ]
  },
  {
   "cell_type": "code",
   "execution_count": 11,
   "metadata": {
    "run_control": {
     "frozen": true
    }
   },
   "outputs": [
    {
     "data": {
      "text/plain": [
       "Index(['Dónde estás trabajando', 'Tipo de contrato',\n",
       "       'Salario mensual o retiro BRUTO (en tu moneda local)',\n",
       "       'Salario mensual o retiro NETO (en tu moneda local)',\n",
       "       'Pagos en dólares', '¿Cuál fue el último valor de dólar que tomaron?',\n",
       "       '¿Qué tan conforme estás con tu sueldo?',\n",
       "       'Cómo creés que está tu sueldo con respecto al último semestre',\n",
       "       'Recibís algún tipo de bono', 'A qué está atado el bono',\n",
       "       '¿Tuviste ajustes por inflación durante 2021?',\n",
       "       '¿De qué % fue el ajuste total?', '¿En qué mes fue el último ajuste?',\n",
       "       'Trabajo de', 'Años de experiencia', 'Años en la empresa actual',\n",
       "       'Años en el puesto actual', '¿Gente a cargo?', 'Plataformas',\n",
       "       'Lenguajes de programación o tecnologías.',\n",
       "       'Frameworks, herramientas y librerías', 'Bases de datos',\n",
       "       'QA / Testing', 'IDEs', 'Cantidad de personas en tu organización',\n",
       "       'Trabajo para una empresa que no tiene oficina en mi ciudad',\n",
       "       'Actividad principal',\n",
       "       '¿La recomendás como un buen lugar para trabajar?',\n",
       "       '¿Cómo calificás las políticas de diversidad e inclusión?',\n",
       "       'Beneficios extra', '¿Salir o seguir contestando?',\n",
       "       'Nivel de estudios alcanzado', 'Estado', 'Carrera', 'Universidad',\n",
       "       'Realizaste cursos de especialización',\n",
       "       '¿Contribuís a proyectos open source?', '¿Programás como hobbie?',\n",
       "       '¿Salir o seguir contestando?.1', '¿Tenés guardias?',\n",
       "       'Cuánto cobrás por guardia', '¿Porcentaje, bruto o neto?',\n",
       "       '¿Salir o seguir contestando?.2',\n",
       "       '¿Sufriste o presenciaste situaciones de violencia laboral?',\n",
       "       '¿Tenés algún tipo de discapacidad?',\n",
       "       '¿Sentís que esto te dificultó el conseguir trabajo?',\n",
       "       '¿Salir o seguir contestando?.3', '¿Cómo venís llevando la pandemia?',\n",
       "       '¿Tenés hijos/as menores de edad?',\n",
       "       '¿Con cuántas personas estás conviviendo?', '¿Con quiénes convivís?',\n",
       "       '¿Tenés un espacio dedicado para el trabajo?',\n",
       "       '¿Tenés que compartir tu equipo de trabajo con alguien?',\n",
       "       '¿Qué tipo de cuarentena hiciste / estás haciendo?',\n",
       "       '¿Cambió tu situación laboral a raíz de la pandemia?',\n",
       "       '¿Qué tanto sentís que te está apoyando tu empresa/organización en esta situación?',\n",
       "       '¿Cómo se vio afectada tu empresa/organización?',\n",
       "       '¿Instauraron algún beneficio nuevo?', 'Tengo', 'Me identifico'],\n",
       "      dtype='object')"
      ]
     },
     "execution_count": 11,
     "metadata": {},
     "output_type": "execute_result"
    }
   ],
   "source": [
    "df.T.index"
   ]
  },
  {
   "cell_type": "code",
   "execution_count": 12,
   "metadata": {
    "run_control": {
     "frozen": true
    }
   },
   "outputs": [
    {
     "data": {
      "text/html": [
       "<div>\n",
       "<style scoped>\n",
       "    .dataframe tbody tr th:only-of-type {\n",
       "        vertical-align: middle;\n",
       "    }\n",
       "\n",
       "    .dataframe tbody tr th {\n",
       "        vertical-align: top;\n",
       "    }\n",
       "\n",
       "    .dataframe thead th {\n",
       "        text-align: right;\n",
       "    }\n",
       "</style>\n",
       "<table border=\"1\" class=\"dataframe\">\n",
       "  <thead>\n",
       "    <tr style=\"text-align: right;\">\n",
       "      <th></th>\n",
       "      <th>Me identifico</th>\n",
       "      <th>Dónde estás trabajando</th>\n",
       "      <th>¿Gente a cargo?</th>\n",
       "    </tr>\n",
       "  </thead>\n",
       "  <tbody>\n",
       "    <tr>\n",
       "      <th>0</th>\n",
       "      <td>Varón Cis</td>\n",
       "      <td>Catamarca</td>\n",
       "      <td>0</td>\n",
       "    </tr>\n",
       "    <tr>\n",
       "      <th>1</th>\n",
       "      <td>Varón Cis</td>\n",
       "      <td>Catamarca</td>\n",
       "      <td>0</td>\n",
       "    </tr>\n",
       "    <tr>\n",
       "      <th>2</th>\n",
       "      <td>Varón Cis</td>\n",
       "      <td>Catamarca</td>\n",
       "      <td>1</td>\n",
       "    </tr>\n",
       "    <tr>\n",
       "      <th>3</th>\n",
       "      <td>Mujer Cis</td>\n",
       "      <td>Chaco</td>\n",
       "      <td>0</td>\n",
       "    </tr>\n",
       "    <tr>\n",
       "      <th>4</th>\n",
       "      <td>Varón Cis</td>\n",
       "      <td>Chaco</td>\n",
       "      <td>0</td>\n",
       "    </tr>\n",
       "    <tr>\n",
       "      <th>...</th>\n",
       "      <td>...</td>\n",
       "      <td>...</td>\n",
       "      <td>...</td>\n",
       "    </tr>\n",
       "    <tr>\n",
       "      <th>6435</th>\n",
       "      <td>Mujer Cis</td>\n",
       "      <td>Tucumán</td>\n",
       "      <td>0</td>\n",
       "    </tr>\n",
       "    <tr>\n",
       "      <th>6436</th>\n",
       "      <td>Varón Cis</td>\n",
       "      <td>Tucumán</td>\n",
       "      <td>3</td>\n",
       "    </tr>\n",
       "    <tr>\n",
       "      <th>6437</th>\n",
       "      <td>Varón Cis</td>\n",
       "      <td>Tucumán</td>\n",
       "      <td>2</td>\n",
       "    </tr>\n",
       "    <tr>\n",
       "      <th>6438</th>\n",
       "      <td>Varón Cis</td>\n",
       "      <td>Tucumán</td>\n",
       "      <td>0</td>\n",
       "    </tr>\n",
       "    <tr>\n",
       "      <th>6439</th>\n",
       "      <td>Varón Cis</td>\n",
       "      <td>Tucumán</td>\n",
       "      <td>2</td>\n",
       "    </tr>\n",
       "  </tbody>\n",
       "</table>\n",
       "<p>6330 rows × 3 columns</p>\n",
       "</div>"
      ],
      "text/plain": [
       "     Me identifico Dónde estás trabajando  ¿Gente a cargo?\n",
       "0        Varón Cis              Catamarca                0\n",
       "1        Varón Cis              Catamarca                0\n",
       "2        Varón Cis              Catamarca                1\n",
       "3        Mujer Cis                  Chaco                0\n",
       "4        Varón Cis                  Chaco                0\n",
       "...            ...                    ...              ...\n",
       "6435     Mujer Cis                Tucumán                0\n",
       "6436     Varón Cis                Tucumán                3\n",
       "6437     Varón Cis                Tucumán                2\n",
       "6438     Varón Cis                Tucumán                0\n",
       "6439     Varón Cis                Tucumán                2\n",
       "\n",
       "[6330 rows x 3 columns]"
      ]
     },
     "execution_count": 12,
     "metadata": {},
     "output_type": "execute_result"
    }
   ],
   "source": [
    "df[['Me identifico', 'Dónde estás trabajando', '¿Gente a cargo?']]"
   ]
  },
  {
   "cell_type": "code",
   "execution_count": 13,
   "metadata": {
    "run_control": {
     "frozen": true
    }
   },
   "outputs": [
    {
     "data": {
      "text/plain": [
       "Varón Cis                                                                                                             4766\n",
       "Mujer Cis                                                                                                             1023\n",
       "Prefiero no decir                                                                                                      256\n",
       "No binarie                                                                                                              43\n",
       "Hombre                                                                                                                  39\n",
       "                                                                                                                      ... \n",
       "Hombre heterosexual                                                                                                      1\n",
       "No entiendo esta pregunta                                                                                                1\n",
       "Chupala                                                                                                                  1\n",
       "MUJER SEXO FEMENINO DEJENSE DE JODER CON GENERO, ES SEXO!!! EN DONDE VAMOS A TERMINAR CON ESTAS PAVADAS DIO MIO!!!       1\n",
       "Persona normal                                                                                                           1\n",
       "Name: Me identifico, Length: 143, dtype: int64"
      ]
     },
     "execution_count": 13,
     "metadata": {},
     "output_type": "execute_result"
    }
   ],
   "source": [
    "df['Me identifico'].value_counts()"
   ]
  },
  {
   "cell_type": "code",
   "execution_count": 14,
   "metadata": {},
   "outputs": [
    {
     "data": {
      "text/plain": [
       "(5789, 60)"
      ]
     },
     "execution_count": 14,
     "metadata": {},
     "output_type": "execute_result"
    }
   ],
   "source": [
    "df = df[(df['Me identifico'] == 'Varón Cis') | (df['Me identifico'] == 'Mujer Cis')]\n",
    "df.shape"
   ]
  },
  {
   "cell_type": "code",
   "execution_count": 15,
   "metadata": {
    "run_control": {
     "frozen": true
    }
   },
   "outputs": [],
   "source": [
    "#"
   ]
  },
  {
   "cell_type": "code",
   "execution_count": 16,
   "metadata": {
    "run_control": {
     "frozen": true
    }
   },
   "outputs": [
    {
     "data": {
      "text/plain": [
       "Dónde estás trabajando\n",
       "Catamarca                             3\n",
       "Chaco                                35\n",
       "Chubut                               17\n",
       "Ciudad Autónoma de Buenos Aires    3224\n",
       "Corrientes                           20\n",
       "Córdoba                             477\n",
       "Entre Ríos                           56\n",
       "Formosa                               1\n",
       "GBA                                 566\n",
       "Jujuy                                18\n",
       "La Pampa                              7\n",
       "La Rioja                             15\n",
       "Mendoza                             135\n",
       "Misiones                             39\n",
       "Neuquén                              39\n",
       "Provincia de Buenos Aires           607\n",
       "Río Negro                            48\n",
       "Salta                                26\n",
       "San Juan                             21\n",
       "San Luis                              9\n",
       "Santa Cruz                            3\n",
       "Santa Fe                            360\n",
       "Santiago del Estero                   7\n",
       "Tierra del Fuego                     12\n",
       "Tucumán                              44\n",
       "dtype: int64"
      ]
     },
     "execution_count": 16,
     "metadata": {},
     "output_type": "execute_result"
    }
   ],
   "source": [
    "df.groupby('Dónde estás trabajando').size()"
   ]
  },
  {
   "cell_type": "code",
   "execution_count": 17,
   "metadata": {
    "run_control": {
     "frozen": true
    }
   },
   "outputs": [
    {
     "data": {
      "text/plain": [
       "¿Gente a cargo?\n",
       "0      4303\n",
       "1       247\n",
       "2       273\n",
       "3       179\n",
       "4       135\n",
       "5       112\n",
       "6        92\n",
       "7        38\n",
       "8        52\n",
       "9        28\n",
       "10       72\n",
       "11       13\n",
       "12       29\n",
       "13       14\n",
       "14       14\n",
       "15       33\n",
       "16       11\n",
       "17        6\n",
       "18       12\n",
       "19        1\n",
       "20       29\n",
       "21        1\n",
       "22        3\n",
       "24        2\n",
       "25       15\n",
       "26        4\n",
       "27        1\n",
       "28        1\n",
       "30       17\n",
       "35        3\n",
       "38        1\n",
       "40       13\n",
       "50        5\n",
       "52        1\n",
       "56        1\n",
       "60        2\n",
       "70        5\n",
       "75        2\n",
       "80        3\n",
       "87        1\n",
       "100       7\n",
       "120       1\n",
       "140       2\n",
       "150       1\n",
       "163       1\n",
       "180       1\n",
       "300       1\n",
       "400       1\n",
       "dtype: int64"
      ]
     },
     "execution_count": 17,
     "metadata": {},
     "output_type": "execute_result"
    }
   ],
   "source": [
    "df.groupby('¿Gente a cargo?').size()"
   ]
  },
  {
   "cell_type": "code",
   "execution_count": 18,
   "metadata": {},
   "outputs": [],
   "source": [
    "df[salary_colname] = df[salary_colname].astype(float)"
   ]
  },
  {
   "cell_type": "code",
   "execution_count": 19,
   "metadata": {
    "run_control": {
     "frozen": true
    }
   },
   "outputs": [
    {
     "data": {
      "text/html": [
       "<div>\n",
       "<style scoped>\n",
       "    .dataframe tbody tr th:only-of-type {\n",
       "        vertical-align: middle;\n",
       "    }\n",
       "\n",
       "    .dataframe tbody tr th {\n",
       "        vertical-align: top;\n",
       "    }\n",
       "\n",
       "    .dataframe thead th {\n",
       "        text-align: right;\n",
       "    }\n",
       "</style>\n",
       "<table border=\"1\" class=\"dataframe\">\n",
       "  <thead>\n",
       "    <tr style=\"text-align: right;\">\n",
       "      <th></th>\n",
       "      <th>Salario mensual o retiro BRUTO (en tu moneda local)</th>\n",
       "    </tr>\n",
       "    <tr>\n",
       "      <th>Me identifico</th>\n",
       "      <th></th>\n",
       "    </tr>\n",
       "  </thead>\n",
       "  <tbody>\n",
       "    <tr>\n",
       "      <th>Mujer Cis</th>\n",
       "      <td>127000.0</td>\n",
       "    </tr>\n",
       "    <tr>\n",
       "      <th>Varón Cis</th>\n",
       "      <td>165000.0</td>\n",
       "    </tr>\n",
       "  </tbody>\n",
       "</table>\n",
       "</div>"
      ],
      "text/plain": [
       "               Salario mensual o retiro BRUTO (en tu moneda local)\n",
       "Me identifico                                                     \n",
       "Mujer Cis                                               127000.0  \n",
       "Varón Cis                                               165000.0  "
      ]
     },
     "execution_count": 19,
     "metadata": {},
     "output_type": "execute_result"
    }
   ],
   "source": [
    "df[['Me identifico', salary_colname]].groupby('Me identifico').median()"
   ]
  },
  {
   "cell_type": "code",
   "execution_count": 20,
   "metadata": {},
   "outputs": [
    {
     "data": {
      "text/html": [
       "<div>\n",
       "<style scoped>\n",
       "    .dataframe tbody tr th:only-of-type {\n",
       "        vertical-align: middle;\n",
       "    }\n",
       "\n",
       "    .dataframe tbody tr th {\n",
       "        vertical-align: top;\n",
       "    }\n",
       "\n",
       "    .dataframe thead tr th {\n",
       "        text-align: left;\n",
       "    }\n",
       "\n",
       "    .dataframe thead tr:last-of-type th {\n",
       "        text-align: right;\n",
       "    }\n",
       "</style>\n",
       "<table border=\"1\" class=\"dataframe\">\n",
       "  <thead>\n",
       "    <tr>\n",
       "      <th></th>\n",
       "      <th colspan=\"2\" halign=\"left\">Salario mensual o retiro BRUTO (en tu moneda local)</th>\n",
       "    </tr>\n",
       "    <tr>\n",
       "      <th></th>\n",
       "      <th>median</th>\n",
       "      <th>count</th>\n",
       "    </tr>\n",
       "    <tr>\n",
       "      <th>Dónde estás trabajando</th>\n",
       "      <th></th>\n",
       "      <th></th>\n",
       "    </tr>\n",
       "  </thead>\n",
       "  <tbody>\n",
       "    <tr>\n",
       "      <th>Misiones</th>\n",
       "      <td>86000.00</td>\n",
       "      <td>39</td>\n",
       "    </tr>\n",
       "    <tr>\n",
       "      <th>Salta</th>\n",
       "      <td>87391.00</td>\n",
       "      <td>26</td>\n",
       "    </tr>\n",
       "    <tr>\n",
       "      <th>Chaco</th>\n",
       "      <td>90000.00</td>\n",
       "      <td>35</td>\n",
       "    </tr>\n",
       "    <tr>\n",
       "      <th>Corrientes</th>\n",
       "      <td>90904.50</td>\n",
       "      <td>20</td>\n",
       "    </tr>\n",
       "    <tr>\n",
       "      <th>San Juan</th>\n",
       "      <td>93900.00</td>\n",
       "      <td>21</td>\n",
       "    </tr>\n",
       "    <tr>\n",
       "      <th>Santa Cruz</th>\n",
       "      <td>100000.00</td>\n",
       "      <td>3</td>\n",
       "    </tr>\n",
       "    <tr>\n",
       "      <th>Formosa</th>\n",
       "      <td>100000.00</td>\n",
       "      <td>1</td>\n",
       "    </tr>\n",
       "    <tr>\n",
       "      <th>La Rioja</th>\n",
       "      <td>102852.92</td>\n",
       "      <td>15</td>\n",
       "    </tr>\n",
       "    <tr>\n",
       "      <th>Entre Ríos</th>\n",
       "      <td>109363.50</td>\n",
       "      <td>56</td>\n",
       "    </tr>\n",
       "    <tr>\n",
       "      <th>Jujuy</th>\n",
       "      <td>124650.00</td>\n",
       "      <td>18</td>\n",
       "    </tr>\n",
       "    <tr>\n",
       "      <th>Mendoza</th>\n",
       "      <td>130000.00</td>\n",
       "      <td>135</td>\n",
       "    </tr>\n",
       "    <tr>\n",
       "      <th>Chubut</th>\n",
       "      <td>130000.00</td>\n",
       "      <td>17</td>\n",
       "    </tr>\n",
       "    <tr>\n",
       "      <th>Neuquén</th>\n",
       "      <td>130000.00</td>\n",
       "      <td>39</td>\n",
       "    </tr>\n",
       "    <tr>\n",
       "      <th>Río Negro</th>\n",
       "      <td>140000.00</td>\n",
       "      <td>48</td>\n",
       "    </tr>\n",
       "    <tr>\n",
       "      <th>La Pampa</th>\n",
       "      <td>142750.00</td>\n",
       "      <td>7</td>\n",
       "    </tr>\n",
       "    <tr>\n",
       "      <th>Tucumán</th>\n",
       "      <td>145200.95</td>\n",
       "      <td>44</td>\n",
       "    </tr>\n",
       "    <tr>\n",
       "      <th>Provincia de Buenos Aires</th>\n",
       "      <td>149000.00</td>\n",
       "      <td>607</td>\n",
       "    </tr>\n",
       "    <tr>\n",
       "      <th>GBA</th>\n",
       "      <td>150000.00</td>\n",
       "      <td>566</td>\n",
       "    </tr>\n",
       "    <tr>\n",
       "      <th>Córdoba</th>\n",
       "      <td>150000.00</td>\n",
       "      <td>477</td>\n",
       "    </tr>\n",
       "    <tr>\n",
       "      <th>Santa Fe</th>\n",
       "      <td>150000.00</td>\n",
       "      <td>360</td>\n",
       "    </tr>\n",
       "    <tr>\n",
       "      <th>San Luis</th>\n",
       "      <td>160000.00</td>\n",
       "      <td>9</td>\n",
       "    </tr>\n",
       "    <tr>\n",
       "      <th>Santiago del Estero</th>\n",
       "      <td>164000.00</td>\n",
       "      <td>7</td>\n",
       "    </tr>\n",
       "    <tr>\n",
       "      <th>Tierra del Fuego</th>\n",
       "      <td>165941.00</td>\n",
       "      <td>12</td>\n",
       "    </tr>\n",
       "    <tr>\n",
       "      <th>Ciudad Autónoma de Buenos Aires</th>\n",
       "      <td>169524.50</td>\n",
       "      <td>3224</td>\n",
       "    </tr>\n",
       "    <tr>\n",
       "      <th>Catamarca</th>\n",
       "      <td>180000.00</td>\n",
       "      <td>3</td>\n",
       "    </tr>\n",
       "  </tbody>\n",
       "</table>\n",
       "</div>"
      ],
      "text/plain": [
       "                                Salario mensual o retiro BRUTO (en tu moneda local)  \\\n",
       "                                                                             median   \n",
       "Dónde estás trabajando                                                                \n",
       "Misiones                                                                  86000.00    \n",
       "Salta                                                                     87391.00    \n",
       "Chaco                                                                     90000.00    \n",
       "Corrientes                                                                90904.50    \n",
       "San Juan                                                                  93900.00    \n",
       "Santa Cruz                                                               100000.00    \n",
       "Formosa                                                                  100000.00    \n",
       "La Rioja                                                                 102852.92    \n",
       "Entre Ríos                                                               109363.50    \n",
       "Jujuy                                                                    124650.00    \n",
       "Mendoza                                                                  130000.00    \n",
       "Chubut                                                                   130000.00    \n",
       "Neuquén                                                                  130000.00    \n",
       "Río Negro                                                                140000.00    \n",
       "La Pampa                                                                 142750.00    \n",
       "Tucumán                                                                  145200.95    \n",
       "Provincia de Buenos Aires                                                149000.00    \n",
       "GBA                                                                      150000.00    \n",
       "Córdoba                                                                  150000.00    \n",
       "Santa Fe                                                                 150000.00    \n",
       "San Luis                                                                 160000.00    \n",
       "Santiago del Estero                                                      164000.00    \n",
       "Tierra del Fuego                                                         165941.00    \n",
       "Ciudad Autónoma de Buenos Aires                                          169524.50    \n",
       "Catamarca                                                                180000.00    \n",
       "\n",
       "                                       \n",
       "                                count  \n",
       "Dónde estás trabajando                 \n",
       "Misiones                           39  \n",
       "Salta                              26  \n",
       "Chaco                              35  \n",
       "Corrientes                         20  \n",
       "San Juan                           21  \n",
       "Santa Cruz                          3  \n",
       "Formosa                             1  \n",
       "La Rioja                           15  \n",
       "Entre Ríos                         56  \n",
       "Jujuy                              18  \n",
       "Mendoza                           135  \n",
       "Chubut                             17  \n",
       "Neuquén                            39  \n",
       "Río Negro                          48  \n",
       "La Pampa                            7  \n",
       "Tucumán                            44  \n",
       "Provincia de Buenos Aires         607  \n",
       "GBA                               566  \n",
       "Córdoba                           477  \n",
       "Santa Fe                          360  \n",
       "San Luis                            9  \n",
       "Santiago del Estero                 7  \n",
       "Tierra del Fuego                   12  \n",
       "Ciudad Autónoma de Buenos Aires  3224  \n",
       "Catamarca                           3  "
      ]
     },
     "execution_count": 20,
     "metadata": {},
     "output_type": "execute_result"
    }
   ],
   "source": [
    "df_provinces = df[['Dónde estás trabajando', salary_colname]].groupby('Dónde estás trabajando').agg(['median', 'count']).sort_values((salary_colname, 'median'))\n",
    "df_provinces"
   ]
  },
  {
   "cell_type": "code",
   "execution_count": 21,
   "metadata": {},
   "outputs": [
    {
     "data": {
      "text/html": [
       "<div>\n",
       "<style scoped>\n",
       "    .dataframe tbody tr th:only-of-type {\n",
       "        vertical-align: middle;\n",
       "    }\n",
       "\n",
       "    .dataframe tbody tr th {\n",
       "        vertical-align: top;\n",
       "    }\n",
       "\n",
       "    .dataframe thead th {\n",
       "        text-align: right;\n",
       "    }\n",
       "</style>\n",
       "<table border=\"1\" class=\"dataframe\">\n",
       "  <thead>\n",
       "    <tr style=\"text-align: right;\">\n",
       "      <th></th>\n",
       "      <th>cartodb_id</th>\n",
       "      <th>description</th>\n",
       "      <th>name</th>\n",
       "      <th>provincia</th>\n",
       "      <th>id</th>\n",
       "      <th>codpcia</th>\n",
       "      <th>c_indec</th>\n",
       "      <th>id_dyp</th>\n",
       "      <th>geometry</th>\n",
       "    </tr>\n",
       "  </thead>\n",
       "  <tbody>\n",
       "    <tr>\n",
       "      <th>0</th>\n",
       "      <td>1</td>\n",
       "      <td></td>\n",
       "      <td></td>\n",
       "      <td>Ciudad Autónoma de Buenos Aires</td>\n",
       "      <td>1</td>\n",
       "      <td>1</td>\n",
       "      <td>2</td>\n",
       "      <td>1</td>\n",
       "      <td>MULTIPOLYGON (((-58.39007 -34.66230, -58.39037...</td>\n",
       "    </tr>\n",
       "    <tr>\n",
       "      <th>1</th>\n",
       "      <td>3</td>\n",
       "      <td></td>\n",
       "      <td></td>\n",
       "      <td>Catamarca</td>\n",
       "      <td>3</td>\n",
       "      <td>3</td>\n",
       "      <td>10</td>\n",
       "      <td>4</td>\n",
       "      <td>MULTIPOLYGON (((-66.59111 -26.17318, -66.58961...</td>\n",
       "    </tr>\n",
       "    <tr>\n",
       "      <th>2</th>\n",
       "      <td>4</td>\n",
       "      <td></td>\n",
       "      <td></td>\n",
       "      <td>Chaco</td>\n",
       "      <td>4</td>\n",
       "      <td>4</td>\n",
       "      <td>22</td>\n",
       "      <td>6</td>\n",
       "      <td>MULTIPOLYGON (((-62.34757 -24.11021, -62.34407...</td>\n",
       "    </tr>\n",
       "    <tr>\n",
       "      <th>3</th>\n",
       "      <td>5</td>\n",
       "      <td></td>\n",
       "      <td></td>\n",
       "      <td>Chubut</td>\n",
       "      <td>5</td>\n",
       "      <td>5</td>\n",
       "      <td>26</td>\n",
       "      <td>7</td>\n",
       "      <td>MULTIPOLYGON (((-71.77158 -41.99955, -71.67446...</td>\n",
       "    </tr>\n",
       "    <tr>\n",
       "      <th>4</th>\n",
       "      <td>7</td>\n",
       "      <td></td>\n",
       "      <td></td>\n",
       "      <td>Corrientes</td>\n",
       "      <td>7</td>\n",
       "      <td>7</td>\n",
       "      <td>18</td>\n",
       "      <td>5</td>\n",
       "      <td>MULTIPOLYGON (((-58.89298 -27.99935, -58.89182...</td>\n",
       "    </tr>\n",
       "  </tbody>\n",
       "</table>\n",
       "</div>"
      ],
      "text/plain": [
       "   cartodb_id description name                        provincia  id  codpcia  \\\n",
       "0           1                   Ciudad Autónoma de Buenos Aires   1        1   \n",
       "1           3                                         Catamarca   3        3   \n",
       "2           4                                             Chaco   4        4   \n",
       "3           5                                            Chubut   5        5   \n",
       "4           7                                        Corrientes   7        7   \n",
       "\n",
       "   c_indec  id_dyp                                           geometry  \n",
       "0        2       1  MULTIPOLYGON (((-58.39007 -34.66230, -58.39037...  \n",
       "1       10       4  MULTIPOLYGON (((-66.59111 -26.17318, -66.58961...  \n",
       "2       22       6  MULTIPOLYGON (((-62.34757 -24.11021, -62.34407...  \n",
       "3       26       7  MULTIPOLYGON (((-71.77158 -41.99955, -71.67446...  \n",
       "4       18       5  MULTIPOLYGON (((-58.89298 -27.99935, -58.89182...  "
      ]
     },
     "execution_count": 21,
     "metadata": {},
     "output_type": "execute_result"
    }
   ],
   "source": [
    "provinces_geo = gpd.read_file('provincias_argentinas_polygon.geojson')\n",
    "provinces_geo.head()"
   ]
  },
  {
   "cell_type": "code",
   "execution_count": 22,
   "metadata": {
    "run_control": {
     "frozen": true
    }
   },
   "outputs": [
    {
     "data": {
      "text/plain": [
       "0                Ciudad Autónoma de Buenos Aires\n",
       "1                                      Catamarca\n",
       "2                                          Chaco\n",
       "3                                         Chubut\n",
       "4                                     Corrientes\n",
       "5                                     Entre Ríos\n",
       "6                                        Formosa\n",
       "7                                          Jujuy\n",
       "8                                       La Pampa\n",
       "9                                       La Rioja\n",
       "10                                       Mendoza\n",
       "11                                      Misiones\n",
       "12                                       Neuquén\n",
       "13                                     Río Negro\n",
       "14                                         Salta\n",
       "15                                      San Juan\n",
       "16                                      San Luis\n",
       "17                                    Santa Cruz\n",
       "18                                      Santa Fe\n",
       "19                           Santiago del Estero\n",
       "20                                       Tucumán\n",
       "21                                       Córdoba\n",
       "22                     Provincia de Buenos Aires\n",
       "23    Tierra del Fuego e Islas del Atlántico Sur\n",
       "Name: provincia, dtype: object"
      ]
     },
     "execution_count": 22,
     "metadata": {},
     "output_type": "execute_result"
    }
   ],
   "source": [
    "provinces_geo.provincia"
   ]
  },
  {
   "cell_type": "code",
   "execution_count": 23,
   "metadata": {},
   "outputs": [],
   "source": [
    "provinces_geo['provincia'] = provinces_geo['provincia'].apply(lambda x: \"Tierra del Fuego\" if x == \"Tierra del Fuego e Islas del Atlántico Sur\" else x)"
   ]
  },
  {
   "cell_type": "code",
   "execution_count": 24,
   "metadata": {},
   "outputs": [
    {
     "data": {
      "text/html": [
       "<div>\n",
       "<style scoped>\n",
       "    .dataframe tbody tr th:only-of-type {\n",
       "        vertical-align: middle;\n",
       "    }\n",
       "\n",
       "    .dataframe tbody tr th {\n",
       "        vertical-align: top;\n",
       "    }\n",
       "\n",
       "    .dataframe thead th {\n",
       "        text-align: right;\n",
       "    }\n",
       "</style>\n",
       "<table border=\"1\" class=\"dataframe\">\n",
       "  <thead>\n",
       "    <tr style=\"text-align: right;\">\n",
       "      <th></th>\n",
       "      <th>cartodb_id</th>\n",
       "      <th>description</th>\n",
       "      <th>name</th>\n",
       "      <th>provincia</th>\n",
       "      <th>id</th>\n",
       "      <th>codpcia</th>\n",
       "      <th>c_indec</th>\n",
       "      <th>id_dyp</th>\n",
       "      <th>geometry</th>\n",
       "      <th>median</th>\n",
       "      <th>count</th>\n",
       "    </tr>\n",
       "  </thead>\n",
       "  <tbody>\n",
       "    <tr>\n",
       "      <th>0</th>\n",
       "      <td>1</td>\n",
       "      <td></td>\n",
       "      <td></td>\n",
       "      <td>Ciudad Autónoma de Buenos Aires</td>\n",
       "      <td>1</td>\n",
       "      <td>1</td>\n",
       "      <td>2</td>\n",
       "      <td>1</td>\n",
       "      <td>MULTIPOLYGON (((-58.39007 -34.66230, -58.39037...</td>\n",
       "      <td>169524.50</td>\n",
       "      <td>3224</td>\n",
       "    </tr>\n",
       "    <tr>\n",
       "      <th>1</th>\n",
       "      <td>3</td>\n",
       "      <td></td>\n",
       "      <td></td>\n",
       "      <td>Catamarca</td>\n",
       "      <td>3</td>\n",
       "      <td>3</td>\n",
       "      <td>10</td>\n",
       "      <td>4</td>\n",
       "      <td>MULTIPOLYGON (((-66.59111 -26.17318, -66.58961...</td>\n",
       "      <td>180000.00</td>\n",
       "      <td>3</td>\n",
       "    </tr>\n",
       "    <tr>\n",
       "      <th>2</th>\n",
       "      <td>4</td>\n",
       "      <td></td>\n",
       "      <td></td>\n",
       "      <td>Chaco</td>\n",
       "      <td>4</td>\n",
       "      <td>4</td>\n",
       "      <td>22</td>\n",
       "      <td>6</td>\n",
       "      <td>MULTIPOLYGON (((-62.34757 -24.11021, -62.34407...</td>\n",
       "      <td>90000.00</td>\n",
       "      <td>35</td>\n",
       "    </tr>\n",
       "    <tr>\n",
       "      <th>3</th>\n",
       "      <td>5</td>\n",
       "      <td></td>\n",
       "      <td></td>\n",
       "      <td>Chubut</td>\n",
       "      <td>5</td>\n",
       "      <td>5</td>\n",
       "      <td>26</td>\n",
       "      <td>7</td>\n",
       "      <td>MULTIPOLYGON (((-71.77158 -41.99955, -71.67446...</td>\n",
       "      <td>130000.00</td>\n",
       "      <td>17</td>\n",
       "    </tr>\n",
       "    <tr>\n",
       "      <th>4</th>\n",
       "      <td>7</td>\n",
       "      <td></td>\n",
       "      <td></td>\n",
       "      <td>Corrientes</td>\n",
       "      <td>7</td>\n",
       "      <td>7</td>\n",
       "      <td>18</td>\n",
       "      <td>5</td>\n",
       "      <td>MULTIPOLYGON (((-58.89298 -27.99935, -58.89182...</td>\n",
       "      <td>90904.50</td>\n",
       "      <td>20</td>\n",
       "    </tr>\n",
       "    <tr>\n",
       "      <th>5</th>\n",
       "      <td>8</td>\n",
       "      <td></td>\n",
       "      <td></td>\n",
       "      <td>Entre Ríos</td>\n",
       "      <td>8</td>\n",
       "      <td>8</td>\n",
       "      <td>30</td>\n",
       "      <td>8</td>\n",
       "      <td>MULTIPOLYGON (((-59.66084 -30.34857, -59.65614...</td>\n",
       "      <td>109363.50</td>\n",
       "      <td>56</td>\n",
       "    </tr>\n",
       "    <tr>\n",
       "      <th>6</th>\n",
       "      <td>9</td>\n",
       "      <td></td>\n",
       "      <td></td>\n",
       "      <td>Formosa</td>\n",
       "      <td>9</td>\n",
       "      <td>9</td>\n",
       "      <td>34</td>\n",
       "      <td>9</td>\n",
       "      <td>MULTIPOLYGON (((-62.34465 -22.45495, -62.33563...</td>\n",
       "      <td>100000.00</td>\n",
       "      <td>1</td>\n",
       "    </tr>\n",
       "    <tr>\n",
       "      <th>7</th>\n",
       "      <td>10</td>\n",
       "      <td></td>\n",
       "      <td></td>\n",
       "      <td>Jujuy</td>\n",
       "      <td>10</td>\n",
       "      <td>10</td>\n",
       "      <td>38</td>\n",
       "      <td>10</td>\n",
       "      <td>MULTIPOLYGON (((-64.44379 -23.63491, -64.44048...</td>\n",
       "      <td>124650.00</td>\n",
       "      <td>18</td>\n",
       "    </tr>\n",
       "    <tr>\n",
       "      <th>8</th>\n",
       "      <td>11</td>\n",
       "      <td></td>\n",
       "      <td></td>\n",
       "      <td>La Pampa</td>\n",
       "      <td>11</td>\n",
       "      <td>11</td>\n",
       "      <td>42</td>\n",
       "      <td>11</td>\n",
       "      <td>MULTIPOLYGON (((-65.10672 -34.99768, -65.02612...</td>\n",
       "      <td>142750.00</td>\n",
       "      <td>7</td>\n",
       "    </tr>\n",
       "    <tr>\n",
       "      <th>9</th>\n",
       "      <td>12</td>\n",
       "      <td></td>\n",
       "      <td></td>\n",
       "      <td>La Rioja</td>\n",
       "      <td>12</td>\n",
       "      <td>12</td>\n",
       "      <td>46</td>\n",
       "      <td>12</td>\n",
       "      <td>MULTIPOLYGON (((-69.09436 -27.77274, -69.01274...</td>\n",
       "      <td>102852.92</td>\n",
       "      <td>15</td>\n",
       "    </tr>\n",
       "    <tr>\n",
       "      <th>10</th>\n",
       "      <td>13</td>\n",
       "      <td></td>\n",
       "      <td></td>\n",
       "      <td>Mendoza</td>\n",
       "      <td>13</td>\n",
       "      <td>13</td>\n",
       "      <td>50</td>\n",
       "      <td>13</td>\n",
       "      <td>MULTIPOLYGON (((-68.07266 -32.08152, -68.06808...</td>\n",
       "      <td>130000.00</td>\n",
       "      <td>135</td>\n",
       "    </tr>\n",
       "    <tr>\n",
       "      <th>11</th>\n",
       "      <td>14</td>\n",
       "      <td></td>\n",
       "      <td></td>\n",
       "      <td>Misiones</td>\n",
       "      <td>14</td>\n",
       "      <td>14</td>\n",
       "      <td>54</td>\n",
       "      <td>14</td>\n",
       "      <td>MULTIPOLYGON (((-56.02847 -27.33082, -56.02342...</td>\n",
       "      <td>86000.00</td>\n",
       "      <td>39</td>\n",
       "    </tr>\n",
       "    <tr>\n",
       "      <th>12</th>\n",
       "      <td>15</td>\n",
       "      <td></td>\n",
       "      <td></td>\n",
       "      <td>Neuquén</td>\n",
       "      <td>15</td>\n",
       "      <td>15</td>\n",
       "      <td>58</td>\n",
       "      <td>15</td>\n",
       "      <td>MULTIPOLYGON (((-70.41614 -36.10198, -70.41312...</td>\n",
       "      <td>130000.00</td>\n",
       "      <td>39</td>\n",
       "    </tr>\n",
       "    <tr>\n",
       "      <th>13</th>\n",
       "      <td>16</td>\n",
       "      <td></td>\n",
       "      <td></td>\n",
       "      <td>Río Negro</td>\n",
       "      <td>16</td>\n",
       "      <td>16</td>\n",
       "      <td>62</td>\n",
       "      <td>16</td>\n",
       "      <td>MULTIPOLYGON (((-68.24275 -37.57786, -68.24015...</td>\n",
       "      <td>140000.00</td>\n",
       "      <td>48</td>\n",
       "    </tr>\n",
       "    <tr>\n",
       "      <th>14</th>\n",
       "      <td>17</td>\n",
       "      <td></td>\n",
       "      <td></td>\n",
       "      <td>Salta</td>\n",
       "      <td>17</td>\n",
       "      <td>17</td>\n",
       "      <td>66</td>\n",
       "      <td>17</td>\n",
       "      <td>MULTIPOLYGON (((-64.44379 -23.63491, -64.44871...</td>\n",
       "      <td>87391.00</td>\n",
       "      <td>26</td>\n",
       "    </tr>\n",
       "    <tr>\n",
       "      <th>15</th>\n",
       "      <td>18</td>\n",
       "      <td></td>\n",
       "      <td></td>\n",
       "      <td>San Juan</td>\n",
       "      <td>18</td>\n",
       "      <td>18</td>\n",
       "      <td>70</td>\n",
       "      <td>18</td>\n",
       "      <td>MULTIPOLYGON (((-69.66178 -28.37523, -69.65889...</td>\n",
       "      <td>93900.00</td>\n",
       "      <td>21</td>\n",
       "    </tr>\n",
       "    <tr>\n",
       "      <th>16</th>\n",
       "      <td>19</td>\n",
       "      <td></td>\n",
       "      <td></td>\n",
       "      <td>San Luis</td>\n",
       "      <td>19</td>\n",
       "      <td>19</td>\n",
       "      <td>74</td>\n",
       "      <td>19</td>\n",
       "      <td>MULTIPOLYGON (((-65.77826 -31.88525, -65.77444...</td>\n",
       "      <td>160000.00</td>\n",
       "      <td>9</td>\n",
       "    </tr>\n",
       "    <tr>\n",
       "      <th>17</th>\n",
       "      <td>20</td>\n",
       "      <td></td>\n",
       "      <td></td>\n",
       "      <td>Santa Cruz</td>\n",
       "      <td>20</td>\n",
       "      <td>20</td>\n",
       "      <td>78</td>\n",
       "      <td>20</td>\n",
       "      <td>MULTIPOLYGON (((-71.64905 -46.00062, -71.54546...</td>\n",
       "      <td>100000.00</td>\n",
       "      <td>3</td>\n",
       "    </tr>\n",
       "    <tr>\n",
       "      <th>18</th>\n",
       "      <td>21</td>\n",
       "      <td></td>\n",
       "      <td></td>\n",
       "      <td>Santa Fe</td>\n",
       "      <td>21</td>\n",
       "      <td>21</td>\n",
       "      <td>82</td>\n",
       "      <td>21</td>\n",
       "      <td>MULTIPOLYGON (((-58.89298 -27.99935, -58.89029...</td>\n",
       "      <td>150000.00</td>\n",
       "      <td>360</td>\n",
       "    </tr>\n",
       "    <tr>\n",
       "      <th>19</th>\n",
       "      <td>22</td>\n",
       "      <td></td>\n",
       "      <td></td>\n",
       "      <td>Santiago del Estero</td>\n",
       "      <td>22</td>\n",
       "      <td>22</td>\n",
       "      <td>86</td>\n",
       "      <td>22</td>\n",
       "      <td>MULTIPOLYGON (((-64.49355 -26.23354, -64.49308...</td>\n",
       "      <td>164000.00</td>\n",
       "      <td>7</td>\n",
       "    </tr>\n",
       "    <tr>\n",
       "      <th>20</th>\n",
       "      <td>24</td>\n",
       "      <td></td>\n",
       "      <td></td>\n",
       "      <td>Tucumán</td>\n",
       "      <td>24</td>\n",
       "      <td>24</td>\n",
       "      <td>90</td>\n",
       "      <td>23</td>\n",
       "      <td>MULTIPOLYGON (((-66.08163 -26.21938, -66.07239...</td>\n",
       "      <td>145200.95</td>\n",
       "      <td>44</td>\n",
       "    </tr>\n",
       "    <tr>\n",
       "      <th>21</th>\n",
       "      <td>6</td>\n",
       "      <td></td>\n",
       "      <td></td>\n",
       "      <td>Córdoba</td>\n",
       "      <td>6</td>\n",
       "      <td>6</td>\n",
       "      <td>14</td>\n",
       "      <td>2</td>\n",
       "      <td>MULTIPOLYGON (((-65.41372 -30.12240, -65.39924...</td>\n",
       "      <td>150000.00</td>\n",
       "      <td>477</td>\n",
       "    </tr>\n",
       "    <tr>\n",
       "      <th>22</th>\n",
       "      <td>2</td>\n",
       "      <td></td>\n",
       "      <td></td>\n",
       "      <td>Provincia de Buenos Aires</td>\n",
       "      <td>2</td>\n",
       "      <td>2</td>\n",
       "      <td>6</td>\n",
       "      <td>3</td>\n",
       "      <td>MULTIPOLYGON (((-58.46189 -34.53477, -58.46222...</td>\n",
       "      <td>149000.00</td>\n",
       "      <td>607</td>\n",
       "    </tr>\n",
       "    <tr>\n",
       "      <th>23</th>\n",
       "      <td>23</td>\n",
       "      <td></td>\n",
       "      <td></td>\n",
       "      <td>Tierra del Fuego</td>\n",
       "      <td>23</td>\n",
       "      <td>23</td>\n",
       "      <td>94</td>\n",
       "      <td>24</td>\n",
       "      <td>MULTIPOLYGON (((-67.77334 -53.83410, -67.76647...</td>\n",
       "      <td>165941.00</td>\n",
       "      <td>12</td>\n",
       "    </tr>\n",
       "  </tbody>\n",
       "</table>\n",
       "</div>"
      ],
      "text/plain": [
       "    cartodb_id description name                        provincia  id  codpcia  \\\n",
       "0            1                   Ciudad Autónoma de Buenos Aires   1        1   \n",
       "1            3                                         Catamarca   3        3   \n",
       "2            4                                             Chaco   4        4   \n",
       "3            5                                            Chubut   5        5   \n",
       "4            7                                        Corrientes   7        7   \n",
       "5            8                                        Entre Ríos   8        8   \n",
       "6            9                                           Formosa   9        9   \n",
       "7           10                                             Jujuy  10       10   \n",
       "8           11                                          La Pampa  11       11   \n",
       "9           12                                          La Rioja  12       12   \n",
       "10          13                                           Mendoza  13       13   \n",
       "11          14                                          Misiones  14       14   \n",
       "12          15                                           Neuquén  15       15   \n",
       "13          16                                         Río Negro  16       16   \n",
       "14          17                                             Salta  17       17   \n",
       "15          18                                          San Juan  18       18   \n",
       "16          19                                          San Luis  19       19   \n",
       "17          20                                        Santa Cruz  20       20   \n",
       "18          21                                          Santa Fe  21       21   \n",
       "19          22                               Santiago del Estero  22       22   \n",
       "20          24                                           Tucumán  24       24   \n",
       "21           6                                           Córdoba   6        6   \n",
       "22           2                         Provincia de Buenos Aires   2        2   \n",
       "23          23                                  Tierra del Fuego  23       23   \n",
       "\n",
       "    c_indec  id_dyp                                           geometry  \\\n",
       "0         2       1  MULTIPOLYGON (((-58.39007 -34.66230, -58.39037...   \n",
       "1        10       4  MULTIPOLYGON (((-66.59111 -26.17318, -66.58961...   \n",
       "2        22       6  MULTIPOLYGON (((-62.34757 -24.11021, -62.34407...   \n",
       "3        26       7  MULTIPOLYGON (((-71.77158 -41.99955, -71.67446...   \n",
       "4        18       5  MULTIPOLYGON (((-58.89298 -27.99935, -58.89182...   \n",
       "5        30       8  MULTIPOLYGON (((-59.66084 -30.34857, -59.65614...   \n",
       "6        34       9  MULTIPOLYGON (((-62.34465 -22.45495, -62.33563...   \n",
       "7        38      10  MULTIPOLYGON (((-64.44379 -23.63491, -64.44048...   \n",
       "8        42      11  MULTIPOLYGON (((-65.10672 -34.99768, -65.02612...   \n",
       "9        46      12  MULTIPOLYGON (((-69.09436 -27.77274, -69.01274...   \n",
       "10       50      13  MULTIPOLYGON (((-68.07266 -32.08152, -68.06808...   \n",
       "11       54      14  MULTIPOLYGON (((-56.02847 -27.33082, -56.02342...   \n",
       "12       58      15  MULTIPOLYGON (((-70.41614 -36.10198, -70.41312...   \n",
       "13       62      16  MULTIPOLYGON (((-68.24275 -37.57786, -68.24015...   \n",
       "14       66      17  MULTIPOLYGON (((-64.44379 -23.63491, -64.44871...   \n",
       "15       70      18  MULTIPOLYGON (((-69.66178 -28.37523, -69.65889...   \n",
       "16       74      19  MULTIPOLYGON (((-65.77826 -31.88525, -65.77444...   \n",
       "17       78      20  MULTIPOLYGON (((-71.64905 -46.00062, -71.54546...   \n",
       "18       82      21  MULTIPOLYGON (((-58.89298 -27.99935, -58.89029...   \n",
       "19       86      22  MULTIPOLYGON (((-64.49355 -26.23354, -64.49308...   \n",
       "20       90      23  MULTIPOLYGON (((-66.08163 -26.21938, -66.07239...   \n",
       "21       14       2  MULTIPOLYGON (((-65.41372 -30.12240, -65.39924...   \n",
       "22        6       3  MULTIPOLYGON (((-58.46189 -34.53477, -58.46222...   \n",
       "23       94      24  MULTIPOLYGON (((-67.77334 -53.83410, -67.76647...   \n",
       "\n",
       "       median  count  \n",
       "0   169524.50   3224  \n",
       "1   180000.00      3  \n",
       "2    90000.00     35  \n",
       "3   130000.00     17  \n",
       "4    90904.50     20  \n",
       "5   109363.50     56  \n",
       "6   100000.00      1  \n",
       "7   124650.00     18  \n",
       "8   142750.00      7  \n",
       "9   102852.92     15  \n",
       "10  130000.00    135  \n",
       "11   86000.00     39  \n",
       "12  130000.00     39  \n",
       "13  140000.00     48  \n",
       "14   87391.00     26  \n",
       "15   93900.00     21  \n",
       "16  160000.00      9  \n",
       "17  100000.00      3  \n",
       "18  150000.00    360  \n",
       "19  164000.00      7  \n",
       "20  145200.95     44  \n",
       "21  150000.00    477  \n",
       "22  149000.00    607  \n",
       "23  165941.00     12  "
      ]
     },
     "execution_count": 24,
     "metadata": {},
     "output_type": "execute_result"
    }
   ],
   "source": [
    "provinces = provinces_geo.join(df_provinces[salary_colname], on=['provincia'])\n",
    "provinces"
   ]
  },
  {
   "cell_type": "code",
   "execution_count": 25,
   "metadata": {
    "run_control": {
     "frozen": true
    }
   },
   "outputs": [
    {
     "data": {
      "image/png": "[encoded data removed]",
      "text/plain": [
       "<Figure size 1080x1080 with 2 Axes>"
      ]
     },
     "metadata": {
      "needs_background": "light"
     },
     "output_type": "display_data"
    }
   ],
   "source": [
    "f, ax = plt.subplots(1, figsize=(15, 15))\n",
    "ax = provinces.plot(column='median', cmap='afmhot', ax=ax, legend=True)\n",
    "ax.axis('off')\n",
    "ax.set_title('(i) Salario bruto promedio por provincia')\n",
    "plt.show()"
   ]
  },
  {
   "cell_type": "code",
   "execution_count": 26,
   "metadata": {
    "run_control": {
     "frozen": true
    }
   },
   "outputs": [
    {
     "data": {
      "text/html": [
       "<div>\n",
       "<style scoped>\n",
       "    .dataframe tbody tr th:only-of-type {\n",
       "        vertical-align: middle;\n",
       "    }\n",
       "\n",
       "    .dataframe tbody tr th {\n",
       "        vertical-align: top;\n",
       "    }\n",
       "\n",
       "    .dataframe thead th {\n",
       "        text-align: right;\n",
       "    }\n",
       "</style>\n",
       "<table border=\"1\" class=\"dataframe\">\n",
       "  <thead>\n",
       "    <tr style=\"text-align: right;\">\n",
       "      <th></th>\n",
       "      <th>provincia</th>\n",
       "      <th>median</th>\n",
       "    </tr>\n",
       "  </thead>\n",
       "  <tbody>\n",
       "    <tr>\n",
       "      <th>0</th>\n",
       "      <td>Ciudad Autónoma de Buenos Aires</td>\n",
       "      <td>169524.50</td>\n",
       "    </tr>\n",
       "    <tr>\n",
       "      <th>1</th>\n",
       "      <td>Catamarca</td>\n",
       "      <td>180000.00</td>\n",
       "    </tr>\n",
       "    <tr>\n",
       "      <th>2</th>\n",
       "      <td>Chaco</td>\n",
       "      <td>90000.00</td>\n",
       "    </tr>\n",
       "    <tr>\n",
       "      <th>3</th>\n",
       "      <td>Chubut</td>\n",
       "      <td>130000.00</td>\n",
       "    </tr>\n",
       "    <tr>\n",
       "      <th>4</th>\n",
       "      <td>Corrientes</td>\n",
       "      <td>90904.50</td>\n",
       "    </tr>\n",
       "    <tr>\n",
       "      <th>5</th>\n",
       "      <td>Entre Ríos</td>\n",
       "      <td>109363.50</td>\n",
       "    </tr>\n",
       "    <tr>\n",
       "      <th>6</th>\n",
       "      <td>Formosa</td>\n",
       "      <td>100000.00</td>\n",
       "    </tr>\n",
       "    <tr>\n",
       "      <th>7</th>\n",
       "      <td>Jujuy</td>\n",
       "      <td>124650.00</td>\n",
       "    </tr>\n",
       "    <tr>\n",
       "      <th>8</th>\n",
       "      <td>La Pampa</td>\n",
       "      <td>142750.00</td>\n",
       "    </tr>\n",
       "    <tr>\n",
       "      <th>9</th>\n",
       "      <td>La Rioja</td>\n",
       "      <td>102852.92</td>\n",
       "    </tr>\n",
       "    <tr>\n",
       "      <th>10</th>\n",
       "      <td>Mendoza</td>\n",
       "      <td>130000.00</td>\n",
       "    </tr>\n",
       "    <tr>\n",
       "      <th>11</th>\n",
       "      <td>Misiones</td>\n",
       "      <td>86000.00</td>\n",
       "    </tr>\n",
       "    <tr>\n",
       "      <th>12</th>\n",
       "      <td>Neuquén</td>\n",
       "      <td>130000.00</td>\n",
       "    </tr>\n",
       "    <tr>\n",
       "      <th>13</th>\n",
       "      <td>Río Negro</td>\n",
       "      <td>140000.00</td>\n",
       "    </tr>\n",
       "    <tr>\n",
       "      <th>14</th>\n",
       "      <td>Salta</td>\n",
       "      <td>87391.00</td>\n",
       "    </tr>\n",
       "    <tr>\n",
       "      <th>15</th>\n",
       "      <td>San Juan</td>\n",
       "      <td>93900.00</td>\n",
       "    </tr>\n",
       "    <tr>\n",
       "      <th>16</th>\n",
       "      <td>San Luis</td>\n",
       "      <td>160000.00</td>\n",
       "    </tr>\n",
       "    <tr>\n",
       "      <th>17</th>\n",
       "      <td>Santa Cruz</td>\n",
       "      <td>100000.00</td>\n",
       "    </tr>\n",
       "    <tr>\n",
       "      <th>18</th>\n",
       "      <td>Santa Fe</td>\n",
       "      <td>150000.00</td>\n",
       "    </tr>\n",
       "    <tr>\n",
       "      <th>19</th>\n",
       "      <td>Santiago del Estero</td>\n",
       "      <td>164000.00</td>\n",
       "    </tr>\n",
       "    <tr>\n",
       "      <th>20</th>\n",
       "      <td>Tucumán</td>\n",
       "      <td>145200.95</td>\n",
       "    </tr>\n",
       "    <tr>\n",
       "      <th>21</th>\n",
       "      <td>Córdoba</td>\n",
       "      <td>150000.00</td>\n",
       "    </tr>\n",
       "    <tr>\n",
       "      <th>22</th>\n",
       "      <td>Provincia de Buenos Aires</td>\n",
       "      <td>149000.00</td>\n",
       "    </tr>\n",
       "    <tr>\n",
       "      <th>23</th>\n",
       "      <td>Tierra del Fuego</td>\n",
       "      <td>165941.00</td>\n",
       "    </tr>\n",
       "  </tbody>\n",
       "</table>\n",
       "</div>"
      ],
      "text/plain": [
       "                          provincia     median\n",
       "0   Ciudad Autónoma de Buenos Aires  169524.50\n",
       "1                         Catamarca  180000.00\n",
       "2                             Chaco   90000.00\n",
       "3                            Chubut  130000.00\n",
       "4                        Corrientes   90904.50\n",
       "5                        Entre Ríos  109363.50\n",
       "6                           Formosa  100000.00\n",
       "7                             Jujuy  124650.00\n",
       "8                          La Pampa  142750.00\n",
       "9                          La Rioja  102852.92\n",
       "10                          Mendoza  130000.00\n",
       "11                         Misiones   86000.00\n",
       "12                          Neuquén  130000.00\n",
       "13                        Río Negro  140000.00\n",
       "14                            Salta   87391.00\n",
       "15                         San Juan   93900.00\n",
       "16                         San Luis  160000.00\n",
       "17                       Santa Cruz  100000.00\n",
       "18                         Santa Fe  150000.00\n",
       "19              Santiago del Estero  164000.00\n",
       "20                          Tucumán  145200.95\n",
       "21                          Córdoba  150000.00\n",
       "22        Provincia de Buenos Aires  149000.00\n",
       "23                 Tierra del Fuego  165941.00"
      ]
     },
     "execution_count": 26,
     "metadata": {},
     "output_type": "execute_result"
    }
   ],
   "source": [
    "provinces[['provincia', 'median']]"
   ]
  },
  {
   "cell_type": "code",
   "execution_count": 27,
   "metadata": {
    "run_control": {
     "frozen": true
    }
   },
   "outputs": [
    {
     "data": {
      "image/png": "[encoded data removed]",
      "text/plain": [
       "<Figure size 1080x1080 with 2 Axes>"
      ]
     },
     "metadata": {
      "needs_background": "light"
     },
     "output_type": "display_data"
    }
   ],
   "source": [
    "f, ax = plt.subplots(1, figsize=(15, 15))\n",
    "ax = provinces.plot(column='count', cmap='afmhot', ax=ax, legend=True)\n",
    "ax.axis('off')\n",
    "ax.set_title('Respuestas por provincia')\n",
    "plt.show()"
   ]
  },
  {
   "cell_type": "markdown",
   "metadata": {
    "run_control": {
     "frozen": true
    }
   },
   "source": [
    "Como la escala está dominada por CABA, apenas podemos ver que PBA, Santa Fe y Córdoba tienen datos y el resto del país casi nada. Usemos logaritmo en base 10 para ver la orden de magnitud de cada provincia."
   ]
  },
  {
   "cell_type": "code",
   "execution_count": 28,
   "metadata": {
    "run_control": {
     "frozen": true
    }
   },
   "outputs": [
    {
     "data": {
      "image/png": "[encoded data removed]",
      "text/plain": [
       "<Figure size 1080x1080 with 2 Axes>"
      ]
     },
     "metadata": {
      "needs_background": "light"
     },
     "output_type": "display_data"
    }
   ],
   "source": [
    "provinces['log(count)'] = provinces['count'].apply(lambda x: math.log10(x))\n",
    "f, ax = plt.subplots(1, figsize=(15, 15))\n",
    "ax = provinces.plot(column='log(count)', cmap='afmhot', ax=ax, legend=True)\n",
    "ax.axis('off')\n",
    "ax.set_title('Logaritmo de cantidad de respuestas por provincia')\n",
    "plt.show()"
   ]
  },
  {
   "cell_type": "code",
   "execution_count": 29,
   "metadata": {
    "run_control": {
     "frozen": true
    }
   },
   "outputs": [
    {
     "data": {
      "text/html": [
       "<div>\n",
       "<style scoped>\n",
       "    .dataframe tbody tr th:only-of-type {\n",
       "        vertical-align: middle;\n",
       "    }\n",
       "\n",
       "    .dataframe tbody tr th {\n",
       "        vertical-align: top;\n",
       "    }\n",
       "\n",
       "    .dataframe thead th {\n",
       "        text-align: right;\n",
       "    }\n",
       "</style>\n",
       "<table border=\"1\" class=\"dataframe\">\n",
       "  <thead>\n",
       "    <tr style=\"text-align: right;\">\n",
       "      <th></th>\n",
       "      <th>provincia</th>\n",
       "      <th>count</th>\n",
       "    </tr>\n",
       "  </thead>\n",
       "  <tbody>\n",
       "    <tr>\n",
       "      <th>0</th>\n",
       "      <td>Ciudad Autónoma de Buenos Aires</td>\n",
       "      <td>3224</td>\n",
       "    </tr>\n",
       "    <tr>\n",
       "      <th>1</th>\n",
       "      <td>Catamarca</td>\n",
       "      <td>3</td>\n",
       "    </tr>\n",
       "    <tr>\n",
       "      <th>2</th>\n",
       "      <td>Chaco</td>\n",
       "      <td>35</td>\n",
       "    </tr>\n",
       "    <tr>\n",
       "      <th>3</th>\n",
       "      <td>Chubut</td>\n",
       "      <td>17</td>\n",
       "    </tr>\n",
       "    <tr>\n",
       "      <th>4</th>\n",
       "      <td>Corrientes</td>\n",
       "      <td>20</td>\n",
       "    </tr>\n",
       "    <tr>\n",
       "      <th>5</th>\n",
       "      <td>Entre Ríos</td>\n",
       "      <td>56</td>\n",
       "    </tr>\n",
       "    <tr>\n",
       "      <th>6</th>\n",
       "      <td>Formosa</td>\n",
       "      <td>1</td>\n",
       "    </tr>\n",
       "    <tr>\n",
       "      <th>7</th>\n",
       "      <td>Jujuy</td>\n",
       "      <td>18</td>\n",
       "    </tr>\n",
       "    <tr>\n",
       "      <th>8</th>\n",
       "      <td>La Pampa</td>\n",
       "      <td>7</td>\n",
       "    </tr>\n",
       "    <tr>\n",
       "      <th>9</th>\n",
       "      <td>La Rioja</td>\n",
       "      <td>15</td>\n",
       "    </tr>\n",
       "    <tr>\n",
       "      <th>10</th>\n",
       "      <td>Mendoza</td>\n",
       "      <td>135</td>\n",
       "    </tr>\n",
       "    <tr>\n",
       "      <th>11</th>\n",
       "      <td>Misiones</td>\n",
       "      <td>39</td>\n",
       "    </tr>\n",
       "    <tr>\n",
       "      <th>12</th>\n",
       "      <td>Neuquén</td>\n",
       "      <td>39</td>\n",
       "    </tr>\n",
       "    <tr>\n",
       "      <th>13</th>\n",
       "      <td>Río Negro</td>\n",
       "      <td>48</td>\n",
       "    </tr>\n",
       "    <tr>\n",
       "      <th>14</th>\n",
       "      <td>Salta</td>\n",
       "      <td>26</td>\n",
       "    </tr>\n",
       "    <tr>\n",
       "      <th>15</th>\n",
       "      <td>San Juan</td>\n",
       "      <td>21</td>\n",
       "    </tr>\n",
       "    <tr>\n",
       "      <th>16</th>\n",
       "      <td>San Luis</td>\n",
       "      <td>9</td>\n",
       "    </tr>\n",
       "    <tr>\n",
       "      <th>17</th>\n",
       "      <td>Santa Cruz</td>\n",
       "      <td>3</td>\n",
       "    </tr>\n",
       "    <tr>\n",
       "      <th>18</th>\n",
       "      <td>Santa Fe</td>\n",
       "      <td>360</td>\n",
       "    </tr>\n",
       "    <tr>\n",
       "      <th>19</th>\n",
       "      <td>Santiago del Estero</td>\n",
       "      <td>7</td>\n",
       "    </tr>\n",
       "    <tr>\n",
       "      <th>20</th>\n",
       "      <td>Tucumán</td>\n",
       "      <td>44</td>\n",
       "    </tr>\n",
       "    <tr>\n",
       "      <th>21</th>\n",
       "      <td>Córdoba</td>\n",
       "      <td>477</td>\n",
       "    </tr>\n",
       "    <tr>\n",
       "      <th>22</th>\n",
       "      <td>Provincia de Buenos Aires</td>\n",
       "      <td>607</td>\n",
       "    </tr>\n",
       "    <tr>\n",
       "      <th>23</th>\n",
       "      <td>Tierra del Fuego</td>\n",
       "      <td>12</td>\n",
       "    </tr>\n",
       "  </tbody>\n",
       "</table>\n",
       "</div>"
      ],
      "text/plain": [
       "                          provincia  count\n",
       "0   Ciudad Autónoma de Buenos Aires   3224\n",
       "1                         Catamarca      3\n",
       "2                             Chaco     35\n",
       "3                            Chubut     17\n",
       "4                        Corrientes     20\n",
       "5                        Entre Ríos     56\n",
       "6                           Formosa      1\n",
       "7                             Jujuy     18\n",
       "8                          La Pampa      7\n",
       "9                          La Rioja     15\n",
       "10                          Mendoza    135\n",
       "11                         Misiones     39\n",
       "12                          Neuquén     39\n",
       "13                        Río Negro     48\n",
       "14                            Salta     26\n",
       "15                         San Juan     21\n",
       "16                         San Luis      9\n",
       "17                       Santa Cruz      3\n",
       "18                         Santa Fe    360\n",
       "19              Santiago del Estero      7\n",
       "20                          Tucumán     44\n",
       "21                          Córdoba    477\n",
       "22        Provincia de Buenos Aires    607\n",
       "23                 Tierra del Fuego     12"
      ]
     },
     "execution_count": 29,
     "metadata": {},
     "output_type": "execute_result"
    }
   ],
   "source": [
    "provinces[['provincia', 'count']]"
   ]
  },
  {
   "cell_type": "code",
   "execution_count": 30,
   "metadata": {},
   "outputs": [],
   "source": [
    "regions_map = {\n",
    "    'Ciudad Autónoma de Buenos Aires': 'AMBA',\n",
    "    'GBA': 'AMBA',\n",
    "    'Catamarca': 'NOA',\n",
    "    'Chaco': 'NEA',\n",
    "    'Chubut': 'Patagonia',\n",
    "    'Corrientes': 'NEA',\n",
    "    'Entre Ríos': 'NEA',\n",
    "    'Formosa': 'NEA',\n",
    "    'Jujuy': 'NOA',\n",
    "    'La Pampa': 'Pampa',\n",
    "    'La Rioja': 'NOA',\n",
    "    'Mendoza': 'Cuyo',\n",
    "    'Misiones': 'NEA',\n",
    "    'Neuquén': 'Patagonia',\n",
    "    'Río Negro': 'Patagonia',\n",
    "    'Salta': 'NOA',\n",
    "    'San Juan': 'Cuyo',\n",
    "    'San Luis': 'Cuyo',\n",
    "    'Santa Cruz': 'Patagonia',\n",
    "    'Santa Fe': 'Pampa',\n",
    "    'Santiago del Estero': 'NOA',\n",
    "    'Tucumán': 'NOA',\n",
    "    'Córdoba': 'Pampa',\n",
    "    'Provincia de Buenos Aires': 'Pampa',\n",
    "    'Tierra del Fuego': 'Patagonia',\n",
    "}\n",
    "provinces_geo['region'] = provinces_geo['provincia'].apply(lambda x: regions_map[x])\n",
    "df['region'] = df['Dónde estás trabajando'].apply(lambda x: regions_map[x])"
   ]
  },
  {
   "cell_type": "code",
   "execution_count": 31,
   "metadata": {
    "run_control": {
     "frozen": true
    }
   },
   "outputs": [
    {
     "data": {
      "image/png": "[encoded data removed]",
      "text/plain": [
       "<Figure size 2160x1080 with 4 Axes>"
      ]
     },
     "metadata": {
      "needs_background": "light"
     },
     "output_type": "display_data"
    }
   ],
   "source": [
    "df_regions = df[['region', salary_colname]].groupby('region').agg(['median', 'count']).sort_values((salary_colname, 'median'))\n",
    "\n",
    "regions = provinces_geo.join(df_regions[salary_colname], on=['region'])\n",
    "regions['log(count)'] = regions['count'].apply(lambda x: math.log10(x))\n",
    "\n",
    "\n",
    "f, (ax0, ax1) = plt.subplots(ncols=2, figsize=(30, 15))\n",
    "ax0 = regions.plot(column='median', cmap='afmhot', ax=ax0, legend=True)\n",
    "ax0.axis('off')\n",
    "ax0.set_title('Salario bruto promedio por región')\n",
    "\n",
    "ax1 = regions.plot(column='log(count)', cmap='afmhot', ax=ax1, legend=True)\n",
    "ax1.axis('off')\n",
    "ax1.set_title('Logaritmo de cantidad de respuestas por región')\n",
    "\n",
    "plt.show()"
   ]
  },
  {
   "cell_type": "code",
   "execution_count": 32,
   "metadata": {
    "run_control": {
     "frozen": true
    }
   },
   "outputs": [
    {
     "data": {
      "text/html": [
       "<div>\n",
       "<style scoped>\n",
       "    .dataframe tbody tr th:only-of-type {\n",
       "        vertical-align: middle;\n",
       "    }\n",
       "\n",
       "    .dataframe tbody tr th {\n",
       "        vertical-align: top;\n",
       "    }\n",
       "\n",
       "    .dataframe thead th {\n",
       "        text-align: right;\n",
       "    }\n",
       "</style>\n",
       "<table border=\"1\" class=\"dataframe\">\n",
       "  <thead>\n",
       "    <tr style=\"text-align: right;\">\n",
       "      <th></th>\n",
       "      <th>median</th>\n",
       "      <th>count</th>\n",
       "    </tr>\n",
       "    <tr>\n",
       "      <th>region</th>\n",
       "      <th></th>\n",
       "      <th></th>\n",
       "    </tr>\n",
       "  </thead>\n",
       "  <tbody>\n",
       "    <tr>\n",
       "      <th>AMBA</th>\n",
       "      <td>165000.0</td>\n",
       "      <td>3790</td>\n",
       "    </tr>\n",
       "    <tr>\n",
       "      <th>Cuyo</th>\n",
       "      <td>130000.0</td>\n",
       "      <td>165</td>\n",
       "    </tr>\n",
       "    <tr>\n",
       "      <th>NEA</th>\n",
       "      <td>90000.0</td>\n",
       "      <td>151</td>\n",
       "    </tr>\n",
       "    <tr>\n",
       "      <th>NOA</th>\n",
       "      <td>119600.0</td>\n",
       "      <td>113</td>\n",
       "    </tr>\n",
       "    <tr>\n",
       "      <th>Pampa</th>\n",
       "      <td>150000.0</td>\n",
       "      <td>1451</td>\n",
       "    </tr>\n",
       "    <tr>\n",
       "      <th>Patagonia</th>\n",
       "      <td>136000.0</td>\n",
       "      <td>119</td>\n",
       "    </tr>\n",
       "  </tbody>\n",
       "</table>\n",
       "</div>"
      ],
      "text/plain": [
       "             median  count\n",
       "region                    \n",
       "AMBA       165000.0   3790\n",
       "Cuyo       130000.0    165\n",
       "NEA         90000.0    151\n",
       "NOA        119600.0    113\n",
       "Pampa      150000.0   1451\n",
       "Patagonia  136000.0    119"
      ]
     },
     "execution_count": 32,
     "metadata": {},
     "output_type": "execute_result"
    }
   ],
   "source": [
    "regions[['region', 'median', 'count']].groupby('region').mean()"
   ]
  },
  {
   "cell_type": "markdown",
   "metadata": {},
   "source": [
    "Ahora tenemos una mediana para cada región, y tenemos muestra de dos dígitos o más en cada una."
   ]
  },
  {
   "cell_type": "code",
   "execution_count": 33,
   "metadata": {
    "run_control": {
     "frozen": true
    }
   },
   "outputs": [
    {
     "name": "stderr",
     "output_type": "stream",
     "text": [
      "/Users/swaisbrot/.local/share/virtualenvs/sysarmy-sueldos-2020.1-IRb41AE9/lib/python3.8/site-packages/numpy/core/_asarray.py:83: VisibleDeprecationWarning: Creating an ndarray from ragged nested sequences (which is a list-or-tuple of lists-or-tuples-or ndarrays with different lengths or shapes) is deprecated. If you meant to do this, you must specify 'dtype=object' when creating the ndarray\n",
      "  return array(a, dtype, copy=False, order=order)\n"
     ]
    },
    {
     "data": {
      "image/png": "[encoded data removed]",
      "text/plain": [
       "<Figure size 1440x432 with 1 Axes>"
      ]
     },
     "metadata": {
      "needs_background": "light"
     },
     "output_type": "display_data"
    }
   ],
   "source": [
    "df[['¿Gente a cargo?', salary_colname]].boxplot(by='¿Gente a cargo?', figsize=(20, 6));"
   ]
  },
  {
   "cell_type": "code",
   "execution_count": 34,
   "metadata": {
    "run_control": {
     "frozen": true
    }
   },
   "outputs": [
    {
     "data": {
      "text/plain": [
       "123123123.0"
      ]
     },
     "execution_count": 34,
     "metadata": {},
     "output_type": "execute_result"
    }
   ],
   "source": [
    "df[salary_colname].max()"
   ]
  },
  {
   "cell_type": "code",
   "execution_count": 35,
   "metadata": {},
   "outputs": [],
   "source": [
    "df = df[df[salary_colname] < 1_000_000]"
   ]
  },
  {
   "cell_type": "code",
   "execution_count": 36,
   "metadata": {
    "run_control": {
     "frozen": true
    }
   },
   "outputs": [
    {
     "name": "stderr",
     "output_type": "stream",
     "text": [
      "/Users/swaisbrot/.local/share/virtualenvs/sysarmy-sueldos-2020.1-IRb41AE9/lib/python3.8/site-packages/numpy/core/_asarray.py:83: VisibleDeprecationWarning: Creating an ndarray from ragged nested sequences (which is a list-or-tuple of lists-or-tuples-or ndarrays with different lengths or shapes) is deprecated. If you meant to do this, you must specify 'dtype=object' when creating the ndarray\n",
      "  return array(a, dtype, copy=False, order=order)\n"
     ]
    },
    {
     "data": {
      "image/png": "[encoded data removed]",
      "text/plain": [
       "<Figure size 1440x432 with 1 Axes>"
      ]
     },
     "metadata": {
      "needs_background": "light"
     },
     "output_type": "display_data"
    }
   ],
   "source": [
    "df[['¿Gente a cargo?', salary_colname]].astype(int).sort_values(by='¿Gente a cargo?').boxplot(by='¿Gente a cargo?', figsize=(20, 6));"
   ]
  },
  {
   "cell_type": "code",
   "execution_count": 37,
   "metadata": {
    "run_control": {
     "frozen": true
    }
   },
   "outputs": [
    {
     "data": {
      "image/png": "[encoded data removed]",
      "text/plain": [
       "<Figure size 1440x432 with 1 Axes>"
      ]
     },
     "metadata": {
      "needs_background": "light"
     },
     "output_type": "display_data"
    }
   ],
   "source": [
    "df[['¿Gente a cargo?']].astype(int).sort_values(by='¿Gente a cargo?').hist(figsize=(20, 6), log=True);"
   ]
  },
  {
   "cell_type": "code",
   "execution_count": 38,
   "metadata": {
    "run_control": {
     "frozen": true
    }
   },
   "outputs": [
    {
     "data": {
      "image/png": "[encoded data removed]",
      "text/plain": [
       "<Figure size 1440x432 with 1 Axes>"
      ]
     },
     "metadata": {
      "needs_background": "light"
     },
     "output_type": "display_data"
    }
   ],
   "source": [
    "df['¿Gente a cargo?'].astype(int).sort_values().apply(lambda x: math.log10(x+1)).hist(figsize=(20, 6), log=True);"
   ]
  },
  {
   "cell_type": "code",
   "execution_count": 39,
   "metadata": {
    "run_control": {
     "frozen": true
    }
   },
   "outputs": [
    {
     "data": {
      "text/plain": [
       "array([  0.,   2.,   5., 300.])"
      ]
     },
     "execution_count": 39,
     "metadata": {},
     "output_type": "execute_result"
    }
   ],
   "source": [
    "g = df['¿Gente a cargo?'].astype(int)\n",
    "pd.qcut(g, 10, duplicates='drop', retbins=True)[1]"
   ]
  },
  {
   "cell_type": "code",
   "execution_count": 40,
   "metadata": {
    "run_control": {
     "frozen": true
    }
   },
   "outputs": [
    {
     "name": "stderr",
     "output_type": "stream",
     "text": [
      "/Users/swaisbrot/.local/share/virtualenvs/sysarmy-sueldos-2020.1-IRb41AE9/lib/python3.8/site-packages/numpy/core/_asarray.py:83: VisibleDeprecationWarning: Creating an ndarray from ragged nested sequences (which is a list-or-tuple of lists-or-tuples-or ndarrays with different lengths or shapes) is deprecated. If you meant to do this, you must specify 'dtype=object' when creating the ndarray\n",
      "  return array(a, dtype, copy=False, order=order)\n"
     ]
    },
    {
     "data": {
      "image/png": "[encoded data removed]",
      "text/plain": [
       "<Figure size 1440x432 with 1 Axes>"
      ]
     },
     "metadata": {
      "needs_background": "light"
     },
     "output_type": "display_data"
    }
   ],
   "source": [
    "deciles = pd.qcut(g, 10, duplicates='drop', retbins=True)[1]\n",
    "df['gente_a_cargo_decile'] = df['¿Gente a cargo?'].astype(int).apply(lambda x: (deciles <= x).sum())\n",
    "df[['gente_a_cargo_decile', salary_colname]].astype(int).sort_values(by='gente_a_cargo_decile').boxplot(by='gente_a_cargo_decile', figsize=(20, 6));"
   ]
  },
  {
   "cell_type": "code",
   "execution_count": 41,
   "metadata": {},
   "outputs": [],
   "source": [
    "df = df[df['Años en la empresa actual'] < 40]"
   ]
  },
  {
   "cell_type": "code",
   "execution_count": 42,
   "metadata": {
    "run_control": {
     "frozen": true
    }
   },
   "outputs": [
    {
     "data": {
      "image/png": "[encoded data removed]",
      "text/plain": [
       "<Figure size 432x288 with 1 Axes>"
      ]
     },
     "metadata": {
      "needs_background": "light"
     },
     "output_type": "display_data"
    }
   ],
   "source": [
    "df['Años en la empresa actual'].apply(lambda x: 3 * (x // 3)).value_counts(sort=True, ascending=True).tail(20).plot.barh(title='Años en la empresa actual (agrupado de a 3)');"
   ]
  },
  {
   "cell_type": "code",
   "execution_count": 43,
   "metadata": {
    "run_control": {
     "frozen": true
    }
   },
   "outputs": [
    {
     "data": {
      "image/png": "[encoded data removed]",
      "text/plain": [
       "<Figure size 432x288 with 1 Axes>"
      ]
     },
     "metadata": {
      "needs_background": "light"
     },
     "output_type": "display_data"
    }
   ],
   "source": [
    "df[salary_colname].plot.hist(title='Salario bruto (sin quitar valores anómalos)');"
   ]
  },
  {
   "cell_type": "code",
   "execution_count": 64,
   "metadata": {
    "scrolled": false
   },
   "outputs": [
    {
     "data": {
      "text/plain": [
       "<__main__.Model at 0x12b95b220>"
      ]
     },
     "execution_count": 64,
     "metadata": {},
     "output_type": "execute_result"
    }
   ],
   "source": [
    "class Model:\n",
    "    def __init__(self, **params):\n",
    "        self.regressor_ = xgb.XGBRegressor(**params)\n",
    "\n",
    "    def get_params(self, deep=True):\n",
    "        return self.regressor_.get_params(deep=deep)\n",
    "\n",
    "    def set_params(self, **params):\n",
    "        return self.regressor_.set_params(**params)\n",
    "    \n",
    "    def row_to_words(self, row):\n",
    "        return [\n",
    "            f'{key}={row[key]}'\n",
    "            for key\n",
    "            in (\n",
    "                'Me identifico',\n",
    "                'Nivel de estudios alcanzado',\n",
    "                'Estado',\n",
    "                'Carrera',\n",
    "                'Realizaste cursos de especialización',\n",
    "                '¿Contribuís a proyectos open source?',\n",
    "                '¿Programás como hobbie?',\n",
    "                'Trabajo de',\n",
    "                '¿Tenés guardias?',\n",
    "                'Tipo de contrato',\n",
    "                'Cantidad de personas en tu organización',\n",
    "                'Actividad principal',\n",
    "            )\n",
    "        ] + [\n",
    "            f'{k}={v.lower().strip().replace(\".\", \"\")}' for k in (\n",
    "                'Beneficios extra',\n",
    "                'Plataformas',\n",
    "                'Lenguajes de programación o tecnologías.',\n",
    "                'Frameworks, herramientas y librerías',\n",
    "                'Bases de datos',\n",
    "                'QA / Testing',\n",
    "                'IDEs',\n",
    "            ) for v in row.fillna('')[k].split(', ')\n",
    "        ] + [\n",
    "            f'provincia={regions_map[row[\"Dónde estás trabajando\"]]}'\n",
    "        ]\n",
    "\n",
    "    def encode_row(self, row):\n",
    "        ws = self.row_to_words(row)\n",
    "        return pd.Series([w in ws for w in self.valid_words_] + [\n",
    "            row['¿Gente a cargo?'],\n",
    "            row['Años de experiencia'],\n",
    "            row['Tengo'],\n",
    "        ])\n",
    "\n",
    "    def fit(self, X, y):\n",
    "        counts = {}\n",
    "        for i in range(X.shape[0]):\n",
    "            for word in self.row_to_words(X.iloc[i]):\n",
    "                counts[word] = counts.get(word, 0) + 1\n",
    "        self.valid_words_ = [word for word, c in counts.items() if c > 1]\n",
    "        self.regressor_.fit(X.apply(self.encode_row, axis=1).astype(float), y)\n",
    "        return self\n",
    "   \n",
    "    def predict(self, X):\n",
    "        return self.regressor_.predict(X.apply(self.encode_row, axis=1).astype(float))\n",
    "    \n",
    "    def score(self, X, y):\n",
    "        return r2_score(y, self.predict(X))\n",
    "\n",
    "\n",
    "space = {\n",
    "    'max_depth': hp.choice('max_depth', np.arange(10, 30, dtype=int)),\n",
    "    'min_child_weight': hp.quniform ('min_child_weight', 1, 20, 1),\n",
    "    'subsample': hp.uniform ('subsample', 0.8, 1),\n",
    "    'n_estimators' : hp.choice('n_estimators', np.arange(10, 400, 5, dtype=int)),\n",
    "    'learning_rate' : hp.quniform('learning_rate', 0.025, 0.5, 0.025),\n",
    "    'gamma' : hp.quniform('gamma', 0.5, 1, 0.05),\n",
    "    'colsample_bytree' : hp.quniform('colsample_bytree', 0.5, 1, 0.05)\n",
    "}\n",
    "\n",
    "model = Model()\n",
    "X_train, X_test, y_train, y_test = train_test_split(df, df[salary_colname], test_size=0.2, random_state=42)\n",
    "model.fit(X_train, y_train)"
   ]
  },
  {
   "cell_type": "code",
   "execution_count": null,
   "metadata": {},
   "outputs": [],
   "source": [
    "trials = Trials()"
   ]
  },
  {
   "cell_type": "code",
   "execution_count": 69,
   "metadata": {
    "scrolled": false
   },
   "outputs": [
    {
     "name": "stdout",
     "output_type": "stream",
     "text": [
      " 97%|██████████████████████████████████████████████████████████████████████████████████████████████████████████████████████████████████████████████████████████▊    | 37/38 [00:00<?, ?trial/s, best loss=?]\n"
     ]
    },
    {
     "data": {
      "text/plain": [
       "{'colsample_bytree': 0.8500000000000001,\n",
       " 'gamma': 0.8500000000000001,\n",
       " 'learning_rate': 0.025,\n",
       " 'max_depth': 0,\n",
       " 'min_child_weight': 17.0,\n",
       " 'n_estimators': 59,\n",
       " 'subsample': 0.8011266458160123}"
      ]
     },
     "execution_count": 69,
     "metadata": {},
     "output_type": "execute_result"
    }
   ],
   "source": [
    "def objective(space):\n",
    "    acc = cross_val_score(estimator=Model(**space), X=X_train, y=y_train, cv=5).mean()\n",
    "    print(space, acc)\n",
    "    return {'loss': -acc, 'status': STATUS_OK}\n",
    "\n",
    "best = fmin(fn=objective,\n",
    "            space=space,\n",
    "            algo=tpe.suggest,\n",
    "            max_evals=38,\n",
    "            trials=trials)\n",
    "best"
   ]
  },
  {
   "cell_type": "code",
   "execution_count": 70,
   "metadata": {},
   "outputs": [],
   "source": [
    "best = {'colsample_bytree': 0.8500000000000001,\n",
    " 'gamma': 0.8500000000000001,\n",
    " 'learning_rate': 0.025,\n",
    " 'max_depth': 0,\n",
    " 'min_child_weight': 17.0,\n",
    " 'n_estimators': 59,\n",
    " 'subsample': 0.8011266458160123}"
   ]
  },
  {
   "cell_type": "code",
   "execution_count": 71,
   "metadata": {},
   "outputs": [
    {
     "data": {
      "text/plain": [
       "-0.07992449493787972"
      ]
     },
     "execution_count": 71,
     "metadata": {},
     "output_type": "execute_result"
    }
   ],
   "source": [
    "cross_val_score(estimator=Model(**best), X=X_train, y=y_train, cv=5).mean()"
   ]
  },
  {
   "cell_type": "code",
   "execution_count": 77,
   "metadata": {},
   "outputs": [
    {
     "data": {
      "text/plain": [
       "-0.08952483741037218"
      ]
     },
     "execution_count": 77,
     "metadata": {},
     "output_type": "execute_result"
    }
   ],
   "source": [
    "class Model:\n",
    "    def __init__(self, **params):\n",
    "        self.regressor_ = xgb.XGBRegressor(**params)\n",
    "\n",
    "    def get_params(self, deep=True):\n",
    "        return self.regressor_.get_params(deep=deep)\n",
    "\n",
    "    def set_params(self, **params):\n",
    "        return self.regressor_.set_params(**params)\n",
    "    \n",
    "    def clean_words(self, field, value):\n",
    "        value = value.replace('Microsoft Azure (Tables, CosmosDB, SQL, etc)', 'Microsoft Azure(TablesCosmosDBSQLetc)')\n",
    "        value = value.replace('Snacks, golosinas, bebidas', 'snacks')\n",
    "        value = value.replace('Descuentos varios (Clarín 365, Club La Nación, etc)', 'descuentos varios')\n",
    "        value = value.replace('Sí, de forma particular', 'de forma particular')\n",
    "        value = value.replace('Sí, los pagó un empleador', 'los pagó un empleador')\n",
    "        value = value.replace('Sí, activa', 'activa')\n",
    "        value = value.replace('Sí, pasiva', 'pasiva')\n",
    "        return [self.clean_word(field, v) for v in value.split(',') if self.clean_word(field, v)]\n",
    "\n",
    "    def clean_word(self, field, word):\n",
    "        val = str(word).lower().strip().replace(\".\", \"\")\n",
    "        if val in ('ninguno', 'ninguna', 'no', '0', 'etc)', 'nan'):\n",
    "            return ''\n",
    "        if field == 'Lenguajes de programación' and val == 'Microsoft Azure(TablesCosmosDBSQLetc)':\n",
    "            return 'Microsoft Azure (Tables, CosmosDB, SQL, etc)'\n",
    "        if field == 'Beneficios extra' and val == 'snacks':\n",
    "            return 'snacks, golosinas, bebidas'\n",
    "        if field == 'Beneficios extra' and val == 'descuentos varios':\n",
    "            return 'descuentos varios (clarín 365, club la nación, etc)'\n",
    "        return val\n",
    "\n",
    "    def row_to_words(self, row):\n",
    "        return [\n",
    "            f'{key}={row.fillna(\"\")[key]}'\n",
    "            for key\n",
    "            in (\n",
    "                'Me identifico',\n",
    "                'Nivel de estudios alcanzado',\n",
    "                'Universidad',\n",
    "                'Estado',\n",
    "                'Carrera',\n",
    "                '¿Contribuís a proyectos open source?',\n",
    "                '¿Programás como hobbie?',\n",
    "                'Trabajo de',\n",
    "                'Tipo de contrato',\n",
    "                'Cantidad de personas en tu organización',\n",
    "                'Actividad principal',\n",
    "            )\n",
    "        ] + [\n",
    "            f'{k}={v}' for k in (\n",
    "                '¿Tenés guardias?',\n",
    "                'Realizaste cursos de especialización',\n",
    "                'Beneficios extra',\n",
    "                'Plataformas',\n",
    "                'Lenguajes de programación o tecnologías.',\n",
    "                'Frameworks, herramientas y librerías',\n",
    "                'Bases de datos',\n",
    "                'QA / Testing',\n",
    "                'IDEs',\n",
    "            ) for v in self.clean_words(k, row.fillna('')[k])\n",
    "        ] + [\n",
    "            f'region={regions_map[row[\"Dónde estás trabajando\"]]}'\n",
    "        ]\n",
    "\n",
    "    def encode_row(self, row):\n",
    "        ws = self.row_to_words(row)\n",
    "        return pd.Series([w in ws for w in self.valid_words_] + [\n",
    "            row['¿Gente a cargo?'],\n",
    "            row['Años de experiencia'],\n",
    "            row['Tengo'],\n",
    "        ])\n",
    "\n",
    "    def fit(self, X, y):\n",
    "        counts = {}\n",
    "        for i in range(X.shape[0]):\n",
    "            for word in self.row_to_words(X.iloc[i]):\n",
    "                counts[word] = counts.get(word, 0) + 1\n",
    "        self.valid_words_ = [word for word, c in counts.items() if c > 0.01*X.shape[0]]\n",
    "        self.regressor_.fit(X.apply(self.encode_row, axis=1).astype(float), y)\n",
    "        return self\n",
    "   \n",
    "    def predict(self, X):\n",
    "        return self.regressor_.predict(X.apply(self.encode_row, axis=1).astype(float))\n",
    "    \n",
    "    def score(self, X, y):\n",
    "        return r2_score(y, self.predict(X))\n",
    "\n",
    "\n",
    "cross_val_score(estimator=Model(**best), X=df, y=df[salary_colname], cv=5).mean()"
   ]
  },
  {
   "cell_type": "code",
   "execution_count": 78,
   "metadata": {},
   "outputs": [],
   "source": [
    "from nyoka import xgboost_to_pmml\n",
    "from sklearn.pipeline import Pipeline\n",
    "\n",
    "model = Model(**best).fit(df, df[salary_colname])\n",
    "model.regressor_.base_score = 0.0\n",
    "xgboost_to_pmml(pipeline=Pipeline([(\"model\", model.regressor_)]),\n",
    "                col_names=model.valid_words_ + ['¿Gente a cargo?', 'Años de experiencia','Tengo'],\n",
    "                target_name=\"salary\",\n",
    "                pmml_f_name=\"decision_tree.pmml\")"
   ]
  }
 ],
 "metadata": {
  "kernelspec": {
   "display_name": "Python 3 (ipykernel)",
   "language": "python",
   "name": "python3"
  },
  "language_info": {
   "codemirror_mode": {
    "name": "ipython",
    "version": 3
   },
   "file_extension": ".py",
   "mimetype": "text/x-python",
   "name": "python",
   "nbconvert_exporter": "python",
   "pygments_lexer": "ipython3",
   "version": "3.8.9"
  }
 },
 "nbformat": 4,
 "nbformat_minor": 4
}
